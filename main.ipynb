{
 "cells": [
  {
   "cell_type": "markdown",
   "metadata": {},
   "source": [
    "# Dataset 1"
   ]
  },
  {
   "cell_type": "markdown",
   "metadata": {},
   "source": [
    "## Data Preprocessing"
   ]
  },
  {
   "cell_type": "code",
   "execution_count": 1,
   "metadata": {},
   "outputs": [],
   "source": [
    "import numpy as np\n",
    "import pandas as pd\n",
    "import matplotlib as mt\n",
    "import matplotlib.pyplot as plt\n",
    "import seaborn as sns\n",
    "import sklearn\n",
    "import warnings\n",
    "warnings.filterwarnings('ignore')"
   ]
  },
  {
   "cell_type": "code",
   "execution_count": 2,
   "metadata": {},
   "outputs": [
    {
     "name": "stdout",
     "output_type": "stream",
     "text": [
      "Numpy version: 1.20.1\n",
      "Pandas version: 1.2.4\n",
      "Matplotlib version: 3.3.4\n",
      "Scikit Learn version: 0.24.1\n",
      "Seaborn version: 0.11.1\n"
     ]
    }
   ],
   "source": [
    "print(\"Numpy version:\", np.__version__)\n",
    "print(\"Pandas version:\", pd.__version__)\n",
    "print(\"Matplotlib version:\", mt.__version__)\n",
    "print(\"Scikit Learn version:\", sklearn.__version__)\n",
    "print(\"Seaborn version:\", sns.__version__)"
   ]
  },
  {
   "cell_type": "code",
   "execution_count": 3,
   "metadata": {},
   "outputs": [],
   "source": [
    "dataframe_raw = pd.read_csv('D:\\\\Datasets\\\\D1.csv',header=None)"
   ]
  },
  {
   "cell_type": "code",
   "execution_count": 4,
   "metadata": {},
   "outputs": [
    {
     "data": {
      "text/html": [
       "<div>\n",
       "<style scoped>\n",
       "    .dataframe tbody tr th:only-of-type {\n",
       "        vertical-align: middle;\n",
       "    }\n",
       "\n",
       "    .dataframe tbody tr th {\n",
       "        vertical-align: top;\n",
       "    }\n",
       "\n",
       "    .dataframe thead th {\n",
       "        text-align: right;\n",
       "    }\n",
       "</style>\n",
       "<table border=\"1\" class=\"dataframe\">\n",
       "  <thead>\n",
       "    <tr style=\"text-align: right;\">\n",
       "      <th></th>\n",
       "      <th>0</th>\n",
       "      <th>1</th>\n",
       "      <th>2</th>\n",
       "      <th>3</th>\n",
       "      <th>4</th>\n",
       "      <th>5</th>\n",
       "      <th>6</th>\n",
       "      <th>7</th>\n",
       "      <th>8</th>\n",
       "      <th>9</th>\n",
       "      <th>...</th>\n",
       "      <th>345</th>\n",
       "      <th>346</th>\n",
       "      <th>347</th>\n",
       "      <th>348</th>\n",
       "      <th>349</th>\n",
       "      <th>350</th>\n",
       "      <th>351</th>\n",
       "      <th>352</th>\n",
       "      <th>353</th>\n",
       "      <th>354</th>\n",
       "    </tr>\n",
       "  </thead>\n",
       "  <tbody>\n",
       "    <tr>\n",
       "      <th>0</th>\n",
       "      <td>0.61332</td>\n",
       "      <td>0.39323</td>\n",
       "      <td>0.73564</td>\n",
       "      <td>0.72570</td>\n",
       "      <td>0.71834</td>\n",
       "      <td>0.70813</td>\n",
       "      <td>0.64622</td>\n",
       "      <td>0.66013</td>\n",
       "      <td>0.64292</td>\n",
       "      <td>0.57292</td>\n",
       "      <td>...</td>\n",
       "      <td>0.67141</td>\n",
       "      <td>0.6407</td>\n",
       "      <td>0.58174</td>\n",
       "      <td>0.51226</td>\n",
       "      <td>0.49090</td>\n",
       "      <td>0.46044</td>\n",
       "      <td>0.38641</td>\n",
       "      <td>0.35274</td>\n",
       "      <td>0.4011</td>\n",
       "      <td>1</td>\n",
       "    </tr>\n",
       "    <tr>\n",
       "      <th>1</th>\n",
       "      <td>0.61429</td>\n",
       "      <td>0.39120</td>\n",
       "      <td>0.73467</td>\n",
       "      <td>0.72244</td>\n",
       "      <td>0.72035</td>\n",
       "      <td>0.71189</td>\n",
       "      <td>0.65115</td>\n",
       "      <td>0.65733</td>\n",
       "      <td>0.64304</td>\n",
       "      <td>0.57466</td>\n",
       "      <td>...</td>\n",
       "      <td>0.67141</td>\n",
       "      <td>0.6407</td>\n",
       "      <td>0.58174</td>\n",
       "      <td>0.51226</td>\n",
       "      <td>0.49093</td>\n",
       "      <td>0.46044</td>\n",
       "      <td>0.38636</td>\n",
       "      <td>0.35274</td>\n",
       "      <td>0.4011</td>\n",
       "      <td>1</td>\n",
       "    </tr>\n",
       "    <tr>\n",
       "      <th>2</th>\n",
       "      <td>0.61583</td>\n",
       "      <td>0.39272</td>\n",
       "      <td>0.73953</td>\n",
       "      <td>0.72733</td>\n",
       "      <td>0.71419</td>\n",
       "      <td>0.71189</td>\n",
       "      <td>0.64281</td>\n",
       "      <td>0.65539</td>\n",
       "      <td>0.64789</td>\n",
       "      <td>0.57890</td>\n",
       "      <td>...</td>\n",
       "      <td>0.67144</td>\n",
       "      <td>0.6407</td>\n",
       "      <td>0.58171</td>\n",
       "      <td>0.51226</td>\n",
       "      <td>0.49090</td>\n",
       "      <td>0.46044</td>\n",
       "      <td>0.38641</td>\n",
       "      <td>0.35274</td>\n",
       "      <td>0.4011</td>\n",
       "      <td>1</td>\n",
       "    </tr>\n",
       "    <tr>\n",
       "      <th>3</th>\n",
       "      <td>0.61308</td>\n",
       "      <td>0.39221</td>\n",
       "      <td>0.73564</td>\n",
       "      <td>0.72919</td>\n",
       "      <td>0.72369</td>\n",
       "      <td>0.70688</td>\n",
       "      <td>0.65068</td>\n",
       "      <td>0.65575</td>\n",
       "      <td>0.64454</td>\n",
       "      <td>0.57672</td>\n",
       "      <td>...</td>\n",
       "      <td>0.67144</td>\n",
       "      <td>0.6407</td>\n",
       "      <td>0.58174</td>\n",
       "      <td>0.51226</td>\n",
       "      <td>0.49093</td>\n",
       "      <td>0.46044</td>\n",
       "      <td>0.38636</td>\n",
       "      <td>0.35274</td>\n",
       "      <td>0.4011</td>\n",
       "      <td>1</td>\n",
       "    </tr>\n",
       "    <tr>\n",
       "      <th>4</th>\n",
       "      <td>0.61203</td>\n",
       "      <td>0.39272</td>\n",
       "      <td>0.73564</td>\n",
       "      <td>0.73291</td>\n",
       "      <td>0.72276</td>\n",
       "      <td>0.71314</td>\n",
       "      <td>0.64974</td>\n",
       "      <td>0.65222</td>\n",
       "      <td>0.65389</td>\n",
       "      <td>0.57248</td>\n",
       "      <td>...</td>\n",
       "      <td>0.67144</td>\n",
       "      <td>0.6407</td>\n",
       "      <td>0.58174</td>\n",
       "      <td>0.51226</td>\n",
       "      <td>0.49090</td>\n",
       "      <td>0.46040</td>\n",
       "      <td>0.38641</td>\n",
       "      <td>0.35274</td>\n",
       "      <td>0.4011</td>\n",
       "      <td>1</td>\n",
       "    </tr>\n",
       "  </tbody>\n",
       "</table>\n",
       "<p>5 rows × 355 columns</p>\n",
       "</div>"
      ],
      "text/plain": [
       "       0        1        2        3        4        5        6        7    \\\n",
       "0  0.61332  0.39323  0.73564  0.72570  0.71834  0.70813  0.64622  0.66013   \n",
       "1  0.61429  0.39120  0.73467  0.72244  0.72035  0.71189  0.65115  0.65733   \n",
       "2  0.61583  0.39272  0.73953  0.72733  0.71419  0.71189  0.64281  0.65539   \n",
       "3  0.61308  0.39221  0.73564  0.72919  0.72369  0.70688  0.65068  0.65575   \n",
       "4  0.61203  0.39272  0.73564  0.73291  0.72276  0.71314  0.64974  0.65222   \n",
       "\n",
       "       8        9    ...      345     346      347      348      349      350  \\\n",
       "0  0.64292  0.57292  ...  0.67141  0.6407  0.58174  0.51226  0.49090  0.46044   \n",
       "1  0.64304  0.57466  ...  0.67141  0.6407  0.58174  0.51226  0.49093  0.46044   \n",
       "2  0.64789  0.57890  ...  0.67144  0.6407  0.58171  0.51226  0.49090  0.46044   \n",
       "3  0.64454  0.57672  ...  0.67144  0.6407  0.58174  0.51226  0.49093  0.46044   \n",
       "4  0.65389  0.57248  ...  0.67144  0.6407  0.58174  0.51226  0.49090  0.46040   \n",
       "\n",
       "       351      352     353  354  \n",
       "0  0.38641  0.35274  0.4011    1  \n",
       "1  0.38636  0.35274  0.4011    1  \n",
       "2  0.38641  0.35274  0.4011    1  \n",
       "3  0.38636  0.35274  0.4011    1  \n",
       "4  0.38641  0.35274  0.4011    1  \n",
       "\n",
       "[5 rows x 355 columns]"
      ]
     },
     "execution_count": 4,
     "metadata": {},
     "output_type": "execute_result"
    }
   ],
   "source": [
    "dataframe_raw.head()"
   ]
  },
  {
   "cell_type": "code",
   "execution_count": 5,
   "metadata": {},
   "outputs": [],
   "source": [
    "# Check for cols with NaN values\n",
    "\n",
    "for col in dataframe_raw.columns:\n",
    "    if dataframe_raw[col].isnull().values.any():\n",
    "        print(f'NaN in {col}')"
   ]
  },
  {
   "cell_type": "code",
   "execution_count": 10,
   "metadata": {},
   "outputs": [
    {
     "name": "stdout",
     "output_type": "stream",
     "text": [
      "(17500, 355)\n"
     ]
    },
    {
     "data": {
      "text/plain": [
       "(17500, 355)"
      ]
     },
     "execution_count": 10,
     "metadata": {},
     "output_type": "execute_result"
    }
   ],
   "source": [
    "print(dataframe_raw.shape)                    # before dropping NaN rows\n",
    "dataframe_raw.dropna(inplace=True)            # Will drop rows with NaN values\n",
    "dataframe_raw.shape                           # after dropping NaN rows\n",
    "\n",
    "# done as a basic check for weeding out NaN values if any"
   ]
  },
  {
   "cell_type": "code",
   "execution_count": 6,
   "metadata": {},
   "outputs": [
    {
     "data": {
      "text/plain": [
       "array([ 1,  2,  3,  4,  5,  6,  7,  8,  9, 10, 11, 12, 13, 14, 15, 16, 17,\n",
       "       18, 19, 20, 21, 22, 23, 24, 25, 26, 27, 28, 29, 30, 31, 32, 33, 34,\n",
       "       35, 36, 37, 38, 39, 40, 41, 42, 43, 44, 45, 46, 47, 48, 49, 50, 51,\n",
       "       52, 53, 54, 55, 56, 57, 58, 59, 60, 61, 62, 63, 64, 65, 66, 67, 68,\n",
       "       69, 70], dtype=int64)"
      ]
     },
     "execution_count": 6,
     "metadata": {},
     "output_type": "execute_result"
    }
   ],
   "source": [
    "classes = dataframe_raw.iloc[:, -1].unique()\n",
    "classes"
   ]
  },
  {
   "cell_type": "code",
   "execution_count": 7,
   "metadata": {},
   "outputs": [
    {
     "data": {
      "text/html": [
       "<div>\n",
       "<style scoped>\n",
       "    .dataframe tbody tr th:only-of-type {\n",
       "        vertical-align: middle;\n",
       "    }\n",
       "\n",
       "    .dataframe tbody tr th {\n",
       "        vertical-align: top;\n",
       "    }\n",
       "\n",
       "    .dataframe thead th {\n",
       "        text-align: right;\n",
       "    }\n",
       "</style>\n",
       "<table border=\"1\" class=\"dataframe\">\n",
       "  <thead>\n",
       "    <tr style=\"text-align: right;\">\n",
       "      <th></th>\n",
       "      <th>0</th>\n",
       "      <th>1</th>\n",
       "      <th>2</th>\n",
       "      <th>3</th>\n",
       "      <th>4</th>\n",
       "      <th>5</th>\n",
       "      <th>6</th>\n",
       "      <th>7</th>\n",
       "      <th>8</th>\n",
       "      <th>9</th>\n",
       "      <th>...</th>\n",
       "      <th>345</th>\n",
       "      <th>346</th>\n",
       "      <th>347</th>\n",
       "      <th>348</th>\n",
       "      <th>349</th>\n",
       "      <th>350</th>\n",
       "      <th>351</th>\n",
       "      <th>352</th>\n",
       "      <th>353</th>\n",
       "      <th>354</th>\n",
       "    </tr>\n",
       "  </thead>\n",
       "  <tbody>\n",
       "    <tr>\n",
       "      <th>0</th>\n",
       "      <td>0.61332</td>\n",
       "      <td>0.39323</td>\n",
       "      <td>0.73564</td>\n",
       "      <td>0.72570</td>\n",
       "      <td>0.71834</td>\n",
       "      <td>0.70813</td>\n",
       "      <td>0.64622</td>\n",
       "      <td>0.66013</td>\n",
       "      <td>0.64292</td>\n",
       "      <td>0.57292</td>\n",
       "      <td>...</td>\n",
       "      <td>0.67141</td>\n",
       "      <td>0.6407</td>\n",
       "      <td>0.58174</td>\n",
       "      <td>0.51226</td>\n",
       "      <td>0.49090</td>\n",
       "      <td>0.46044</td>\n",
       "      <td>0.38641</td>\n",
       "      <td>0.35274</td>\n",
       "      <td>0.4011</td>\n",
       "      <td>1</td>\n",
       "    </tr>\n",
       "    <tr>\n",
       "      <th>1</th>\n",
       "      <td>0.61429</td>\n",
       "      <td>0.39120</td>\n",
       "      <td>0.73467</td>\n",
       "      <td>0.72244</td>\n",
       "      <td>0.72035</td>\n",
       "      <td>0.71189</td>\n",
       "      <td>0.65115</td>\n",
       "      <td>0.65733</td>\n",
       "      <td>0.64304</td>\n",
       "      <td>0.57466</td>\n",
       "      <td>...</td>\n",
       "      <td>0.67141</td>\n",
       "      <td>0.6407</td>\n",
       "      <td>0.58174</td>\n",
       "      <td>0.51226</td>\n",
       "      <td>0.49093</td>\n",
       "      <td>0.46044</td>\n",
       "      <td>0.38636</td>\n",
       "      <td>0.35274</td>\n",
       "      <td>0.4011</td>\n",
       "      <td>1</td>\n",
       "    </tr>\n",
       "    <tr>\n",
       "      <th>2</th>\n",
       "      <td>0.61583</td>\n",
       "      <td>0.39272</td>\n",
       "      <td>0.73953</td>\n",
       "      <td>0.72733</td>\n",
       "      <td>0.71419</td>\n",
       "      <td>0.71189</td>\n",
       "      <td>0.64281</td>\n",
       "      <td>0.65539</td>\n",
       "      <td>0.64789</td>\n",
       "      <td>0.57890</td>\n",
       "      <td>...</td>\n",
       "      <td>0.67144</td>\n",
       "      <td>0.6407</td>\n",
       "      <td>0.58171</td>\n",
       "      <td>0.51226</td>\n",
       "      <td>0.49090</td>\n",
       "      <td>0.46044</td>\n",
       "      <td>0.38641</td>\n",
       "      <td>0.35274</td>\n",
       "      <td>0.4011</td>\n",
       "      <td>1</td>\n",
       "    </tr>\n",
       "    <tr>\n",
       "      <th>3</th>\n",
       "      <td>0.61308</td>\n",
       "      <td>0.39221</td>\n",
       "      <td>0.73564</td>\n",
       "      <td>0.72919</td>\n",
       "      <td>0.72369</td>\n",
       "      <td>0.70688</td>\n",
       "      <td>0.65068</td>\n",
       "      <td>0.65575</td>\n",
       "      <td>0.64454</td>\n",
       "      <td>0.57672</td>\n",
       "      <td>...</td>\n",
       "      <td>0.67144</td>\n",
       "      <td>0.6407</td>\n",
       "      <td>0.58174</td>\n",
       "      <td>0.51226</td>\n",
       "      <td>0.49093</td>\n",
       "      <td>0.46044</td>\n",
       "      <td>0.38636</td>\n",
       "      <td>0.35274</td>\n",
       "      <td>0.4011</td>\n",
       "      <td>1</td>\n",
       "    </tr>\n",
       "    <tr>\n",
       "      <th>4</th>\n",
       "      <td>0.61203</td>\n",
       "      <td>0.39272</td>\n",
       "      <td>0.73564</td>\n",
       "      <td>0.73291</td>\n",
       "      <td>0.72276</td>\n",
       "      <td>0.71314</td>\n",
       "      <td>0.64974</td>\n",
       "      <td>0.65222</td>\n",
       "      <td>0.65389</td>\n",
       "      <td>0.57248</td>\n",
       "      <td>...</td>\n",
       "      <td>0.67144</td>\n",
       "      <td>0.6407</td>\n",
       "      <td>0.58174</td>\n",
       "      <td>0.51226</td>\n",
       "      <td>0.49090</td>\n",
       "      <td>0.46040</td>\n",
       "      <td>0.38641</td>\n",
       "      <td>0.35274</td>\n",
       "      <td>0.4011</td>\n",
       "      <td>1</td>\n",
       "    </tr>\n",
       "  </tbody>\n",
       "</table>\n",
       "<p>5 rows × 355 columns</p>\n",
       "</div>"
      ],
      "text/plain": [
       "       0        1        2        3        4        5        6        7    \\\n",
       "0  0.61332  0.39323  0.73564  0.72570  0.71834  0.70813  0.64622  0.66013   \n",
       "1  0.61429  0.39120  0.73467  0.72244  0.72035  0.71189  0.65115  0.65733   \n",
       "2  0.61583  0.39272  0.73953  0.72733  0.71419  0.71189  0.64281  0.65539   \n",
       "3  0.61308  0.39221  0.73564  0.72919  0.72369  0.70688  0.65068  0.65575   \n",
       "4  0.61203  0.39272  0.73564  0.73291  0.72276  0.71314  0.64974  0.65222   \n",
       "\n",
       "       8        9    ...      345     346      347      348      349      350  \\\n",
       "0  0.64292  0.57292  ...  0.67141  0.6407  0.58174  0.51226  0.49090  0.46044   \n",
       "1  0.64304  0.57466  ...  0.67141  0.6407  0.58174  0.51226  0.49093  0.46044   \n",
       "2  0.64789  0.57890  ...  0.67144  0.6407  0.58171  0.51226  0.49090  0.46044   \n",
       "3  0.64454  0.57672  ...  0.67144  0.6407  0.58174  0.51226  0.49093  0.46044   \n",
       "4  0.65389  0.57248  ...  0.67144  0.6407  0.58174  0.51226  0.49090  0.46040   \n",
       "\n",
       "       351      352     353  354  \n",
       "0  0.38641  0.35274  0.4011    1  \n",
       "1  0.38636  0.35274  0.4011    1  \n",
       "2  0.38641  0.35274  0.4011    1  \n",
       "3  0.38636  0.35274  0.4011    1  \n",
       "4  0.38641  0.35274  0.4011    1  \n",
       "\n",
       "[5 rows x 355 columns]"
      ]
     },
     "execution_count": 7,
     "metadata": {},
     "output_type": "execute_result"
    }
   ],
   "source": [
    "dataframe_raw.head()\n"
   ]
  },
  {
   "cell_type": "code",
   "execution_count": 8,
   "metadata": {},
   "outputs": [
    {
     "data": {
      "text/html": [
       "<div>\n",
       "<style scoped>\n",
       "    .dataframe tbody tr th:only-of-type {\n",
       "        vertical-align: middle;\n",
       "    }\n",
       "\n",
       "    .dataframe tbody tr th {\n",
       "        vertical-align: top;\n",
       "    }\n",
       "\n",
       "    .dataframe thead th {\n",
       "        text-align: right;\n",
       "    }\n",
       "</style>\n",
       "<table border=\"1\" class=\"dataframe\">\n",
       "  <thead>\n",
       "    <tr style=\"text-align: right;\">\n",
       "      <th></th>\n",
       "      <th>0</th>\n",
       "      <th>1</th>\n",
       "      <th>2</th>\n",
       "      <th>3</th>\n",
       "      <th>4</th>\n",
       "      <th>5</th>\n",
       "      <th>6</th>\n",
       "      <th>7</th>\n",
       "      <th>8</th>\n",
       "      <th>9</th>\n",
       "      <th>...</th>\n",
       "      <th>345</th>\n",
       "      <th>346</th>\n",
       "      <th>347</th>\n",
       "      <th>348</th>\n",
       "      <th>349</th>\n",
       "      <th>350</th>\n",
       "      <th>351</th>\n",
       "      <th>352</th>\n",
       "      <th>353</th>\n",
       "      <th>354</th>\n",
       "    </tr>\n",
       "  </thead>\n",
       "  <tbody>\n",
       "    <tr>\n",
       "      <th>count</th>\n",
       "      <td>17500.000000</td>\n",
       "      <td>17500.000000</td>\n",
       "      <td>17500.000000</td>\n",
       "      <td>17500.000000</td>\n",
       "      <td>17500.000000</td>\n",
       "      <td>17500.000000</td>\n",
       "      <td>17500.000000</td>\n",
       "      <td>17500.000000</td>\n",
       "      <td>17500.000000</td>\n",
       "      <td>17500.000000</td>\n",
       "      <td>...</td>\n",
       "      <td>17500.000000</td>\n",
       "      <td>17500.000000</td>\n",
       "      <td>17500.000000</td>\n",
       "      <td>17500.000000</td>\n",
       "      <td>17500.000000</td>\n",
       "      <td>17500.000000</td>\n",
       "      <td>17500.000000</td>\n",
       "      <td>17500.000000</td>\n",
       "      <td>17500.000000</td>\n",
       "      <td>17500.000000</td>\n",
       "    </tr>\n",
       "    <tr>\n",
       "      <th>mean</th>\n",
       "      <td>0.612595</td>\n",
       "      <td>0.393062</td>\n",
       "      <td>0.734403</td>\n",
       "      <td>0.723137</td>\n",
       "      <td>0.717038</td>\n",
       "      <td>0.706718</td>\n",
       "      <td>0.645795</td>\n",
       "      <td>0.657540</td>\n",
       "      <td>0.643186</td>\n",
       "      <td>0.575763</td>\n",
       "      <td>...</td>\n",
       "      <td>0.676370</td>\n",
       "      <td>0.645928</td>\n",
       "      <td>0.587422</td>\n",
       "      <td>0.518485</td>\n",
       "      <td>0.497236</td>\n",
       "      <td>0.466899</td>\n",
       "      <td>0.393307</td>\n",
       "      <td>0.360027</td>\n",
       "      <td>0.408200</td>\n",
       "      <td>35.500000</td>\n",
       "    </tr>\n",
       "    <tr>\n",
       "      <th>std</th>\n",
       "      <td>0.039621</td>\n",
       "      <td>0.027938</td>\n",
       "      <td>0.045395</td>\n",
       "      <td>0.051292</td>\n",
       "      <td>0.056448</td>\n",
       "      <td>0.053960</td>\n",
       "      <td>0.050172</td>\n",
       "      <td>0.051231</td>\n",
       "      <td>0.049700</td>\n",
       "      <td>0.047264</td>\n",
       "      <td>...</td>\n",
       "      <td>0.041231</td>\n",
       "      <td>0.042269</td>\n",
       "      <td>0.044740</td>\n",
       "      <td>0.048633</td>\n",
       "      <td>0.049770</td>\n",
       "      <td>0.051682</td>\n",
       "      <td>0.057558</td>\n",
       "      <td>0.060262</td>\n",
       "      <td>0.056901</td>\n",
       "      <td>20.205775</td>\n",
       "    </tr>\n",
       "    <tr>\n",
       "      <th>min</th>\n",
       "      <td>0.000000</td>\n",
       "      <td>0.000000</td>\n",
       "      <td>0.000000</td>\n",
       "      <td>0.000000</td>\n",
       "      <td>0.000000</td>\n",
       "      <td>0.000000</td>\n",
       "      <td>0.000000</td>\n",
       "      <td>0.000000</td>\n",
       "      <td>0.000000</td>\n",
       "      <td>0.000000</td>\n",
       "      <td>...</td>\n",
       "      <td>0.000000</td>\n",
       "      <td>0.000000</td>\n",
       "      <td>0.000000</td>\n",
       "      <td>0.000000</td>\n",
       "      <td>0.000000</td>\n",
       "      <td>0.000000</td>\n",
       "      <td>0.000000</td>\n",
       "      <td>0.000000</td>\n",
       "      <td>0.000000</td>\n",
       "      <td>1.000000</td>\n",
       "    </tr>\n",
       "    <tr>\n",
       "      <th>25%</th>\n",
       "      <td>0.609290</td>\n",
       "      <td>0.389670</td>\n",
       "      <td>0.731750</td>\n",
       "      <td>0.720570</td>\n",
       "      <td>0.714860</td>\n",
       "      <td>0.704370</td>\n",
       "      <td>0.642450</td>\n",
       "      <td>0.654170</td>\n",
       "      <td>0.639810</td>\n",
       "      <td>0.572270</td>\n",
       "      <td>...</td>\n",
       "      <td>0.670660</td>\n",
       "      <td>0.639870</td>\n",
       "      <td>0.580850</td>\n",
       "      <td>0.511290</td>\n",
       "      <td>0.489900</td>\n",
       "      <td>0.459450</td>\n",
       "      <td>0.385450</td>\n",
       "      <td>0.351690</td>\n",
       "      <td>0.399940</td>\n",
       "      <td>18.000000</td>\n",
       "    </tr>\n",
       "    <tr>\n",
       "      <th>50%</th>\n",
       "      <td>0.612600</td>\n",
       "      <td>0.392210</td>\n",
       "      <td>0.735640</td>\n",
       "      <td>0.725580</td>\n",
       "      <td>0.720620</td>\n",
       "      <td>0.709380</td>\n",
       "      <td>0.646690</td>\n",
       "      <td>0.658430</td>\n",
       "      <td>0.643850</td>\n",
       "      <td>0.576070</td>\n",
       "      <td>...</td>\n",
       "      <td>0.671550</td>\n",
       "      <td>0.640850</td>\n",
       "      <td>0.581920</td>\n",
       "      <td>0.512470</td>\n",
       "      <td>0.491160</td>\n",
       "      <td>0.460680</td>\n",
       "      <td>0.386640</td>\n",
       "      <td>0.353030</td>\n",
       "      <td>0.401410</td>\n",
       "      <td>35.500000</td>\n",
       "    </tr>\n",
       "    <tr>\n",
       "      <th>75%</th>\n",
       "      <td>0.615740</td>\n",
       "      <td>0.394250</td>\n",
       "      <td>0.739530</td>\n",
       "      <td>0.730000</td>\n",
       "      <td>0.725970</td>\n",
       "      <td>0.713140</td>\n",
       "      <td>0.651030</td>\n",
       "      <td>0.662690</td>\n",
       "      <td>0.647890</td>\n",
       "      <td>0.579980</td>\n",
       "      <td>...</td>\n",
       "      <td>0.676140</td>\n",
       "      <td>0.645890</td>\n",
       "      <td>0.587440</td>\n",
       "      <td>0.518690</td>\n",
       "      <td>0.497200</td>\n",
       "      <td>0.466380</td>\n",
       "      <td>0.391950</td>\n",
       "      <td>0.359290</td>\n",
       "      <td>0.408660</td>\n",
       "      <td>53.000000</td>\n",
       "    </tr>\n",
       "    <tr>\n",
       "      <th>max</th>\n",
       "      <td>1.000000</td>\n",
       "      <td>1.000000</td>\n",
       "      <td>1.000000</td>\n",
       "      <td>1.000000</td>\n",
       "      <td>1.000000</td>\n",
       "      <td>1.000000</td>\n",
       "      <td>1.000000</td>\n",
       "      <td>1.000000</td>\n",
       "      <td>1.000000</td>\n",
       "      <td>1.000000</td>\n",
       "      <td>...</td>\n",
       "      <td>1.000000</td>\n",
       "      <td>1.000000</td>\n",
       "      <td>1.000000</td>\n",
       "      <td>1.000000</td>\n",
       "      <td>1.000000</td>\n",
       "      <td>1.000000</td>\n",
       "      <td>1.000000</td>\n",
       "      <td>1.000000</td>\n",
       "      <td>1.000000</td>\n",
       "      <td>70.000000</td>\n",
       "    </tr>\n",
       "  </tbody>\n",
       "</table>\n",
       "<p>8 rows × 355 columns</p>\n",
       "</div>"
      ],
      "text/plain": [
       "                0             1             2             3             4    \\\n",
       "count  17500.000000  17500.000000  17500.000000  17500.000000  17500.000000   \n",
       "mean       0.612595      0.393062      0.734403      0.723137      0.717038   \n",
       "std        0.039621      0.027938      0.045395      0.051292      0.056448   \n",
       "min        0.000000      0.000000      0.000000      0.000000      0.000000   \n",
       "25%        0.609290      0.389670      0.731750      0.720570      0.714860   \n",
       "50%        0.612600      0.392210      0.735640      0.725580      0.720620   \n",
       "75%        0.615740      0.394250      0.739530      0.730000      0.725970   \n",
       "max        1.000000      1.000000      1.000000      1.000000      1.000000   \n",
       "\n",
       "                5             6             7             8             9    \\\n",
       "count  17500.000000  17500.000000  17500.000000  17500.000000  17500.000000   \n",
       "mean       0.706718      0.645795      0.657540      0.643186      0.575763   \n",
       "std        0.053960      0.050172      0.051231      0.049700      0.047264   \n",
       "min        0.000000      0.000000      0.000000      0.000000      0.000000   \n",
       "25%        0.704370      0.642450      0.654170      0.639810      0.572270   \n",
       "50%        0.709380      0.646690      0.658430      0.643850      0.576070   \n",
       "75%        0.713140      0.651030      0.662690      0.647890      0.579980   \n",
       "max        1.000000      1.000000      1.000000      1.000000      1.000000   \n",
       "\n",
       "       ...           345           346           347           348  \\\n",
       "count  ...  17500.000000  17500.000000  17500.000000  17500.000000   \n",
       "mean   ...      0.676370      0.645928      0.587422      0.518485   \n",
       "std    ...      0.041231      0.042269      0.044740      0.048633   \n",
       "min    ...      0.000000      0.000000      0.000000      0.000000   \n",
       "25%    ...      0.670660      0.639870      0.580850      0.511290   \n",
       "50%    ...      0.671550      0.640850      0.581920      0.512470   \n",
       "75%    ...      0.676140      0.645890      0.587440      0.518690   \n",
       "max    ...      1.000000      1.000000      1.000000      1.000000   \n",
       "\n",
       "                349           350           351           352           353  \\\n",
       "count  17500.000000  17500.000000  17500.000000  17500.000000  17500.000000   \n",
       "mean       0.497236      0.466899      0.393307      0.360027      0.408200   \n",
       "std        0.049770      0.051682      0.057558      0.060262      0.056901   \n",
       "min        0.000000      0.000000      0.000000      0.000000      0.000000   \n",
       "25%        0.489900      0.459450      0.385450      0.351690      0.399940   \n",
       "50%        0.491160      0.460680      0.386640      0.353030      0.401410   \n",
       "75%        0.497200      0.466380      0.391950      0.359290      0.408660   \n",
       "max        1.000000      1.000000      1.000000      1.000000      1.000000   \n",
       "\n",
       "                354  \n",
       "count  17500.000000  \n",
       "mean      35.500000  \n",
       "std       20.205775  \n",
       "min        1.000000  \n",
       "25%       18.000000  \n",
       "50%       35.500000  \n",
       "75%       53.000000  \n",
       "max       70.000000  \n",
       "\n",
       "[8 rows x 355 columns]"
      ]
     },
     "execution_count": 8,
     "metadata": {},
     "output_type": "execute_result"
    }
   ],
   "source": [
    "dataframe_raw.describe()"
   ]
  },
  {
   "cell_type": "code",
   "execution_count": 9,
   "metadata": {},
   "outputs": [
    {
     "name": "stdout",
     "output_type": "stream",
     "text": [
      "354\n",
      "1     250\n",
      "2     250\n",
      "3     250\n",
      "4     250\n",
      "5     250\n",
      "     ... \n",
      "66    250\n",
      "67    250\n",
      "68    250\n",
      "69    250\n",
      "70    250\n",
      "Length: 70, dtype: int64\n"
     ]
    }
   ],
   "source": [
    "print(dataframe_raw.groupby(354).size())"
   ]
  },
  {
   "cell_type": "markdown",
   "metadata": {},
   "source": [
    "Each Class is having 250 samples"
   ]
  },
  {
   "cell_type": "code",
   "execution_count": 12,
   "metadata": {},
   "outputs": [
    {
     "name": "stdout",
     "output_type": "stream",
     "text": [
      "Empty DataFrame\n",
      "Columns: []\n",
      "Index: []\n"
     ]
    }
   ],
   "source": [
    "reduced_data = pd.DataFrame()\n",
    "print(reduced_data)"
   ]
  },
  {
   "cell_type": "markdown",
   "metadata": {},
   "source": [
    "sub sampling data from each class"
   ]
  },
  {
   "cell_type": "code",
   "execution_count": 13,
   "metadata": {},
   "outputs": [
    {
     "data": {
      "text/plain": [
       "(8750, 355)"
      ]
     },
     "execution_count": 13,
     "metadata": {},
     "output_type": "execute_result"
    }
   ],
   "source": [
    "for i in range(1, 71):\n",
    "    df = dataframe_raw[dataframe_raw[354] == i]\n",
    "    new_df = df.sample(frac =.50)\n",
    "    reduced_data = reduced_data.append(new_df)\n",
    "reduced_data.shape"
   ]
  },
  {
   "cell_type": "code",
   "execution_count": 14,
   "metadata": {},
   "outputs": [
    {
     "name": "stdout",
     "output_type": "stream",
     "text": [
      "354\n",
      "1     125\n",
      "2     125\n",
      "3     125\n",
      "4     125\n",
      "5     125\n",
      "     ... \n",
      "66    125\n",
      "67    125\n",
      "68    125\n",
      "69    125\n",
      "70    125\n",
      "Length: 70, dtype: int64\n"
     ]
    }
   ],
   "source": [
    "print(reduced_data.groupby(354).size())\n"
   ]
  },
  {
   "cell_type": "markdown",
   "metadata": {},
   "source": [
    "After sampling, now each class has 125 samples(exactly half of the original dataset)"
   ]
  },
  {
   "cell_type": "code",
   "execution_count": 15,
   "metadata": {},
   "outputs": [
    {
     "name": "stdout",
     "output_type": "stream",
     "text": [
      "Shape of features: (8750, 354)\n",
      "Shape of labels: (8750,)\n"
     ]
    }
   ],
   "source": [
    "X = np.asarray(reduced_data.iloc[:, :-1])\n",
    "y = np.ravel(reduced_data.iloc[:, -1])\n",
    "print(\"Shape of features:\", X.shape)\n",
    "print(\"Shape of labels:\", y.shape)"
   ]
  },
  {
   "cell_type": "code",
   "execution_count": 16,
   "metadata": {},
   "outputs": [],
   "source": [
    "X_df = pd.DataFrame(X)\n",
    "X_df_variance = X_df.var()\n",
    "X_Total_Variance = X_df_variance.sum()"
   ]
  },
  {
   "cell_type": "code",
   "execution_count": 17,
   "metadata": {},
   "outputs": [
    {
     "data": {
      "text/plain": [
       "0.732742450366902"
      ]
     },
     "execution_count": 17,
     "metadata": {},
     "output_type": "execute_result"
    }
   ],
   "source": [
    "X_Total_Variance"
   ]
  },
  {
   "cell_type": "code",
   "execution_count": 18,
   "metadata": {},
   "outputs": [],
   "source": [
    "from sklearn.preprocessing import MinMaxScaler\n",
    "scaler = MinMaxScaler(feature_range=(0,1))\n",
    "scaler.fit(X)\n",
    "X_scaled = scaler.fit_transform(X)"
   ]
  },
  {
   "cell_type": "code",
   "execution_count": 19,
   "metadata": {},
   "outputs": [
    {
     "data": {
      "text/html": [
       "<div>\n",
       "<style scoped>\n",
       "    .dataframe tbody tr th:only-of-type {\n",
       "        vertical-align: middle;\n",
       "    }\n",
       "\n",
       "    .dataframe tbody tr th {\n",
       "        vertical-align: top;\n",
       "    }\n",
       "\n",
       "    .dataframe thead th {\n",
       "        text-align: right;\n",
       "    }\n",
       "</style>\n",
       "<table border=\"1\" class=\"dataframe\">\n",
       "  <thead>\n",
       "    <tr style=\"text-align: right;\">\n",
       "      <th></th>\n",
       "      <th>0</th>\n",
       "      <th>1</th>\n",
       "      <th>2</th>\n",
       "      <th>3</th>\n",
       "      <th>4</th>\n",
       "      <th>5</th>\n",
       "      <th>6</th>\n",
       "      <th>7</th>\n",
       "      <th>8</th>\n",
       "      <th>9</th>\n",
       "      <th>...</th>\n",
       "      <th>344</th>\n",
       "      <th>345</th>\n",
       "      <th>346</th>\n",
       "      <th>347</th>\n",
       "      <th>348</th>\n",
       "      <th>349</th>\n",
       "      <th>350</th>\n",
       "      <th>351</th>\n",
       "      <th>352</th>\n",
       "      <th>353</th>\n",
       "    </tr>\n",
       "  </thead>\n",
       "  <tbody>\n",
       "    <tr>\n",
       "      <th>0</th>\n",
       "      <td>0.60864</td>\n",
       "      <td>0.382070</td>\n",
       "      <td>0.734167</td>\n",
       "      <td>0.720039</td>\n",
       "      <td>0.71191</td>\n",
       "      <td>0.710268</td>\n",
       "      <td>0.646400</td>\n",
       "      <td>0.655121</td>\n",
       "      <td>0.636943</td>\n",
       "      <td>0.581065</td>\n",
       "      <td>...</td>\n",
       "      <td>0.688364</td>\n",
       "      <td>0.670713</td>\n",
       "      <td>0.639831</td>\n",
       "      <td>0.580488</td>\n",
       "      <td>0.51045</td>\n",
       "      <td>0.489023</td>\n",
       "      <td>0.45843</td>\n",
       "      <td>0.383983</td>\n",
       "      <td>0.349856</td>\n",
       "      <td>0.398214</td>\n",
       "    </tr>\n",
       "    <tr>\n",
       "      <th>1</th>\n",
       "      <td>0.61470</td>\n",
       "      <td>0.385676</td>\n",
       "      <td>0.735143</td>\n",
       "      <td>0.723084</td>\n",
       "      <td>0.72423</td>\n",
       "      <td>0.714033</td>\n",
       "      <td>0.658042</td>\n",
       "      <td>0.651494</td>\n",
       "      <td>0.639043</td>\n",
       "      <td>0.576785</td>\n",
       "      <td>...</td>\n",
       "      <td>0.688364</td>\n",
       "      <td>0.670713</td>\n",
       "      <td>0.639831</td>\n",
       "      <td>0.580488</td>\n",
       "      <td>0.51042</td>\n",
       "      <td>0.489023</td>\n",
       "      <td>0.45843</td>\n",
       "      <td>0.383983</td>\n",
       "      <td>0.349856</td>\n",
       "      <td>0.398214</td>\n",
       "    </tr>\n",
       "    <tr>\n",
       "      <th>2</th>\n",
       "      <td>0.61373</td>\n",
       "      <td>0.385676</td>\n",
       "      <td>0.736118</td>\n",
       "      <td>0.725786</td>\n",
       "      <td>0.71459</td>\n",
       "      <td>0.709016</td>\n",
       "      <td>0.648300</td>\n",
       "      <td>0.654114</td>\n",
       "      <td>0.641728</td>\n",
       "      <td>0.581176</td>\n",
       "      <td>...</td>\n",
       "      <td>0.688364</td>\n",
       "      <td>0.670713</td>\n",
       "      <td>0.639861</td>\n",
       "      <td>0.580488</td>\n",
       "      <td>0.51045</td>\n",
       "      <td>0.488992</td>\n",
       "      <td>0.45843</td>\n",
       "      <td>0.383933</td>\n",
       "      <td>0.349856</td>\n",
       "      <td>0.398304</td>\n",
       "    </tr>\n",
       "    <tr>\n",
       "      <th>3</th>\n",
       "      <td>0.61179</td>\n",
       "      <td>0.383096</td>\n",
       "      <td>0.736118</td>\n",
       "      <td>0.729426</td>\n",
       "      <td>0.71968</td>\n",
       "      <td>0.711529</td>\n",
       "      <td>0.647228</td>\n",
       "      <td>0.645482</td>\n",
       "      <td>0.641496</td>\n",
       "      <td>0.585123</td>\n",
       "      <td>...</td>\n",
       "      <td>0.688364</td>\n",
       "      <td>0.670713</td>\n",
       "      <td>0.639831</td>\n",
       "      <td>0.580488</td>\n",
       "      <td>0.51045</td>\n",
       "      <td>0.489023</td>\n",
       "      <td>0.45839</td>\n",
       "      <td>0.383983</td>\n",
       "      <td>0.349856</td>\n",
       "      <td>0.398254</td>\n",
       "    </tr>\n",
       "    <tr>\n",
       "      <th>4</th>\n",
       "      <td>0.61252</td>\n",
       "      <td>0.382578</td>\n",
       "      <td>0.731231</td>\n",
       "      <td>0.732591</td>\n",
       "      <td>0.72410</td>\n",
       "      <td>0.706503</td>\n",
       "      <td>0.654353</td>\n",
       "      <td>0.651237</td>\n",
       "      <td>0.642072</td>\n",
       "      <td>0.581065</td>\n",
       "      <td>...</td>\n",
       "      <td>0.688364</td>\n",
       "      <td>0.670713</td>\n",
       "      <td>0.639831</td>\n",
       "      <td>0.580488</td>\n",
       "      <td>0.51045</td>\n",
       "      <td>0.488992</td>\n",
       "      <td>0.45843</td>\n",
       "      <td>0.383983</td>\n",
       "      <td>0.349856</td>\n",
       "      <td>0.398254</td>\n",
       "    </tr>\n",
       "  </tbody>\n",
       "</table>\n",
       "<p>5 rows × 354 columns</p>\n",
       "</div>"
      ],
      "text/plain": [
       "       0         1         2         3        4         5         6    \\\n",
       "0  0.60864  0.382070  0.734167  0.720039  0.71191  0.710268  0.646400   \n",
       "1  0.61470  0.385676  0.735143  0.723084  0.72423  0.714033  0.658042   \n",
       "2  0.61373  0.385676  0.736118  0.725786  0.71459  0.709016  0.648300   \n",
       "3  0.61179  0.383096  0.736118  0.729426  0.71968  0.711529  0.647228   \n",
       "4  0.61252  0.382578  0.731231  0.732591  0.72410  0.706503  0.654353   \n",
       "\n",
       "        7         8         9    ...       344       345       346       347  \\\n",
       "0  0.655121  0.636943  0.581065  ...  0.688364  0.670713  0.639831  0.580488   \n",
       "1  0.651494  0.639043  0.576785  ...  0.688364  0.670713  0.639831  0.580488   \n",
       "2  0.654114  0.641728  0.581176  ...  0.688364  0.670713  0.639861  0.580488   \n",
       "3  0.645482  0.641496  0.585123  ...  0.688364  0.670713  0.639831  0.580488   \n",
       "4  0.651237  0.642072  0.581065  ...  0.688364  0.670713  0.639831  0.580488   \n",
       "\n",
       "       348       349      350       351       352       353  \n",
       "0  0.51045  0.489023  0.45843  0.383983  0.349856  0.398214  \n",
       "1  0.51042  0.489023  0.45843  0.383983  0.349856  0.398214  \n",
       "2  0.51045  0.488992  0.45843  0.383933  0.349856  0.398304  \n",
       "3  0.51045  0.489023  0.45839  0.383983  0.349856  0.398254  \n",
       "4  0.51045  0.488992  0.45843  0.383983  0.349856  0.398254  \n",
       "\n",
       "[5 rows x 354 columns]"
      ]
     },
     "execution_count": 19,
     "metadata": {},
     "output_type": "execute_result"
    }
   ],
   "source": [
    "dataframe = pd.DataFrame(X_scaled)\n",
    "dataframe.head()"
   ]
  },
  {
   "cell_type": "markdown",
   "metadata": {},
   "source": [
    "## Principal Component Analysis(PCA)"
   ]
  },
  {
   "cell_type": "code",
   "execution_count": 20,
   "metadata": {},
   "outputs": [
    {
     "data": {
      "text/plain": [
       "(8750, 14)"
      ]
     },
     "execution_count": 20,
     "metadata": {},
     "output_type": "execute_result"
    }
   ],
   "source": [
    "from sklearn.decomposition import PCA\n",
    "pca = PCA(n_components = 0.95)\n",
    "pca.fit(X_scaled)\n",
    "X_pca = pca.transform(X_scaled)\n",
    "X_pca.shape"
   ]
  },
  {
   "cell_type": "code",
   "execution_count": 21,
   "metadata": {},
   "outputs": [
    {
     "data": {
      "text/plain": [
       "array([0.41449903, 0.17182058, 0.09048556, 0.07279177, 0.05421473,\n",
       "       0.04299011, 0.02313054, 0.02204209, 0.01583995, 0.01312367,\n",
       "       0.01107511, 0.0091789 , 0.00735263, 0.00574853])"
      ]
     },
     "execution_count": 21,
     "metadata": {},
     "output_type": "execute_result"
    }
   ],
   "source": [
    "pca.explained_variance_ratio_"
   ]
  },
  {
   "cell_type": "code",
   "execution_count": 22,
   "metadata": {},
   "outputs": [
    {
     "data": {
      "text/plain": [
       "(14,)"
      ]
     },
     "execution_count": 22,
     "metadata": {},
     "output_type": "execute_result"
    }
   ],
   "source": [
    "pca_explained_variance_ratio=pca.explained_variance_ratio_.shape\n",
    "pca_explained_variance_ratio"
   ]
  },
  {
   "cell_type": "code",
   "execution_count": 23,
   "metadata": {},
   "outputs": [
    {
     "data": {
      "image/png": "[encoded data removed]",
      "text/plain": [
       "<Figure size 864x432 with 1 Axes>"
      ]
     },
     "metadata": {
      "needs_background": "light"
     },
     "output_type": "display_data"
    }
   ],
   "source": [
    "%matplotlib inline\n",
    "pca_plot = PCA().fit(dataframe)\n",
    "\n",
    "import matplotlib.pyplot as plt\n",
    "plt.rcParams[\"figure.figsize\"] = (12,6)\n",
    "\n",
    "fig, ax = plt.subplots()\n",
    "xi = np.arange(0, 14, step=1)\n",
    "yv = np.cumsum(pca.explained_variance_ratio_)\n",
    "\n",
    "plt.ylim(0.0,1.1)\n",
    "plt.plot(xi, yv, marker='o', linestyle='--', color='b')\n",
    "\n",
    "plt.xlabel('Number of Components')\n",
    "plt.xticks(np.arange(0, 15, step=1)) #change from 0-based array index to 1-based human-readable label\n",
    "plt.ylabel('Cumulative variance (%)')\n",
    "plt.title('The number of components needed to explain variance')\n",
    "\n",
    "plt.axhline(y=0.95, color='r', linestyle='-')\n",
    "plt.text(0.5, 0.85, '95% cut-off threshold', color = 'red', fontsize=16)\n",
    "\n",
    "ax.grid(axis='x')\n",
    "plt.show()"
   ]
  },
  {
   "cell_type": "markdown",
   "metadata": {},
   "source": [
    "Inference: From the plot we came to conclusion that with 14 components we could achieve 95% threshold variance for this particular dataset"
   ]
  },
  {
   "cell_type": "code",
   "execution_count": 24,
   "metadata": {},
   "outputs": [],
   "source": [
    "pca_components=pca.components_"
   ]
  },
  {
   "cell_type": "code",
   "execution_count": 25,
   "metadata": {},
   "outputs": [
    {
     "data": {
      "text/plain": [
       "(14, 354)"
      ]
     },
     "execution_count": 25,
     "metadata": {},
     "output_type": "execute_result"
    }
   ],
   "source": [
    "pca_components.shape"
   ]
  },
  {
   "cell_type": "code",
   "execution_count": 26,
   "metadata": {},
   "outputs": [],
   "source": [
    "df_comp = pd.DataFrame(pca.components_)"
   ]
  },
  {
   "cell_type": "code",
   "execution_count": 27,
   "metadata": {},
   "outputs": [
    {
     "data": {
      "text/plain": [
       "array([[-4.33850086e-02, -1.23668650e-02, -4.30837501e-02, ...,\n",
       "        -5.67497952e-03, -3.33861346e-03, -2.72162439e-03],\n",
       "       [-4.29490270e-02, -1.44111233e-02, -4.46144311e-02, ...,\n",
       "        -6.38984980e-03, -2.19796694e-03, -2.02369724e-03],\n",
       "       [-4.28792988e-02, -1.15410651e-02, -4.28741632e-02, ...,\n",
       "        -6.91913853e-03, -1.62535558e-03, -1.95271715e-03],\n",
       "       ...,\n",
       "       [-4.54233260e-01,  1.52138410e-01,  9.11209941e-01, ...,\n",
       "         5.52799783e-02,  1.74919324e-01,  3.00689209e-04],\n",
       "       [-6.17112158e-02, -4.19602715e-02, -5.79137398e-02, ...,\n",
       "        -3.02587646e-02, -2.68193331e-02, -5.09277422e-03],\n",
       "       [-6.51171209e-02, -5.75902180e-02, -9.98883378e-02, ...,\n",
       "        -2.53196329e-02, -3.28109633e-02, -5.59171285e-03]])"
      ]
     },
     "execution_count": 27,
     "metadata": {},
     "output_type": "execute_result"
    }
   ],
   "source": [
    "X_pca"
   ]
  },
  {
   "cell_type": "code",
   "execution_count": 28,
   "metadata": {},
   "outputs": [
    {
     "data": {
      "text/html": [
       "<div>\n",
       "<style scoped>\n",
       "    .dataframe tbody tr th:only-of-type {\n",
       "        vertical-align: middle;\n",
       "    }\n",
       "\n",
       "    .dataframe tbody tr th {\n",
       "        vertical-align: top;\n",
       "    }\n",
       "\n",
       "    .dataframe thead th {\n",
       "        text-align: right;\n",
       "    }\n",
       "</style>\n",
       "<table border=\"1\" class=\"dataframe\">\n",
       "  <thead>\n",
       "    <tr style=\"text-align: right;\">\n",
       "      <th></th>\n",
       "      <th>0</th>\n",
       "      <th>1</th>\n",
       "      <th>2</th>\n",
       "      <th>3</th>\n",
       "      <th>4</th>\n",
       "      <th>5</th>\n",
       "      <th>6</th>\n",
       "      <th>7</th>\n",
       "      <th>8</th>\n",
       "      <th>9</th>\n",
       "      <th>10</th>\n",
       "      <th>11</th>\n",
       "      <th>12</th>\n",
       "      <th>13</th>\n",
       "    </tr>\n",
       "  </thead>\n",
       "  <tbody>\n",
       "    <tr>\n",
       "      <th>0</th>\n",
       "      <td>0.256867</td>\n",
       "      <td>0.366740</td>\n",
       "      <td>0.289594</td>\n",
       "      <td>0.361830</td>\n",
       "      <td>0.483303</td>\n",
       "      <td>0.472014</td>\n",
       "      <td>0.389350</td>\n",
       "      <td>0.483743</td>\n",
       "      <td>0.497500</td>\n",
       "      <td>0.486282</td>\n",
       "      <td>0.414399</td>\n",
       "      <td>0.439234</td>\n",
       "      <td>0.475298</td>\n",
       "      <td>0.372128</td>\n",
       "    </tr>\n",
       "    <tr>\n",
       "      <th>1</th>\n",
       "      <td>0.256918</td>\n",
       "      <td>0.366330</td>\n",
       "      <td>0.289189</td>\n",
       "      <td>0.362044</td>\n",
       "      <td>0.484172</td>\n",
       "      <td>0.474722</td>\n",
       "      <td>0.390334</td>\n",
       "      <td>0.481641</td>\n",
       "      <td>0.498640</td>\n",
       "      <td>0.490441</td>\n",
       "      <td>0.418030</td>\n",
       "      <td>0.438857</td>\n",
       "      <td>0.475568</td>\n",
       "      <td>0.372534</td>\n",
       "    </tr>\n",
       "    <tr>\n",
       "      <th>2</th>\n",
       "      <td>0.256927</td>\n",
       "      <td>0.366906</td>\n",
       "      <td>0.289649</td>\n",
       "      <td>0.361421</td>\n",
       "      <td>0.482172</td>\n",
       "      <td>0.471696</td>\n",
       "      <td>0.389390</td>\n",
       "      <td>0.481968</td>\n",
       "      <td>0.500895</td>\n",
       "      <td>0.487803</td>\n",
       "      <td>0.416181</td>\n",
       "      <td>0.438578</td>\n",
       "      <td>0.475703</td>\n",
       "      <td>0.372576</td>\n",
       "    </tr>\n",
       "    <tr>\n",
       "      <th>3</th>\n",
       "      <td>0.257234</td>\n",
       "      <td>0.364490</td>\n",
       "      <td>0.288899</td>\n",
       "      <td>0.361291</td>\n",
       "      <td>0.482541</td>\n",
       "      <td>0.472581</td>\n",
       "      <td>0.388607</td>\n",
       "      <td>0.482869</td>\n",
       "      <td>0.496113</td>\n",
       "      <td>0.490614</td>\n",
       "      <td>0.419289</td>\n",
       "      <td>0.437172</td>\n",
       "      <td>0.475451</td>\n",
       "      <td>0.369177</td>\n",
       "    </tr>\n",
       "    <tr>\n",
       "      <th>4</th>\n",
       "      <td>0.257275</td>\n",
       "      <td>0.363241</td>\n",
       "      <td>0.290038</td>\n",
       "      <td>0.361136</td>\n",
       "      <td>0.483612</td>\n",
       "      <td>0.472606</td>\n",
       "      <td>0.388877</td>\n",
       "      <td>0.480971</td>\n",
       "      <td>0.499340</td>\n",
       "      <td>0.489587</td>\n",
       "      <td>0.421499</td>\n",
       "      <td>0.438872</td>\n",
       "      <td>0.476109</td>\n",
       "      <td>0.372737</td>\n",
       "    </tr>\n",
       "  </tbody>\n",
       "</table>\n",
       "</div>"
      ],
      "text/plain": [
       "         0         1         2         3         4         5         6   \\\n",
       "0  0.256867  0.366740  0.289594  0.361830  0.483303  0.472014  0.389350   \n",
       "1  0.256918  0.366330  0.289189  0.362044  0.484172  0.474722  0.390334   \n",
       "2  0.256927  0.366906  0.289649  0.361421  0.482172  0.471696  0.389390   \n",
       "3  0.257234  0.364490  0.288899  0.361291  0.482541  0.472581  0.388607   \n",
       "4  0.257275  0.363241  0.290038  0.361136  0.483612  0.472606  0.388877   \n",
       "\n",
       "         7         8         9         10        11        12        13  \n",
       "0  0.483743  0.497500  0.486282  0.414399  0.439234  0.475298  0.372128  \n",
       "1  0.481641  0.498640  0.490441  0.418030  0.438857  0.475568  0.372534  \n",
       "2  0.481968  0.500895  0.487803  0.416181  0.438578  0.475703  0.372576  \n",
       "3  0.482869  0.496113  0.490614  0.419289  0.437172  0.475451  0.369177  \n",
       "4  0.480971  0.499340  0.489587  0.421499  0.438872  0.476109  0.372737  "
      ]
     },
     "execution_count": 28,
     "metadata": {},
     "output_type": "execute_result"
    }
   ],
   "source": [
    "scaler = MinMaxScaler(feature_range=(0,1))\n",
    "X_pca_scaled=scaler.fit_transform(X_pca)\n",
    "X_pca_scaled_df = pd.DataFrame(X_pca_scaled,columns=np.arange(0, 14))\n",
    "X_pca_scaled_df.head()"
   ]
  },
  {
   "cell_type": "code",
   "execution_count": 29,
   "metadata": {},
   "outputs": [
    {
     "data": {
      "text/plain": [
       "(8750, 14)"
      ]
     },
     "execution_count": 29,
     "metadata": {},
     "output_type": "execute_result"
    }
   ],
   "source": [
    "X_pca_scaled_df.shape"
   ]
  },
  {
   "cell_type": "markdown",
   "metadata": {},
   "source": [
    "## Factor Analysis [FA]"
   ]
  },
  {
   "cell_type": "code",
   "execution_count": 80,
   "metadata": {},
   "outputs": [],
   "source": [
    "#Factor analysis\n",
    "from factor_analyzer.factor_analyzer import calculate_bartlett_sphericity,calculate_kmo"
   ]
  },
  {
   "cell_type": "code",
   "execution_count": 81,
   "metadata": {},
   "outputs": [
    {
     "name": "stdout",
     "output_type": "stream",
     "text": [
      "Bartlett Sphericity Test\n",
      "Chi squared value :  inf\n",
      "p value :  0.0\n"
     ]
    }
   ],
   "source": [
    "chi2,p = calculate_bartlett_sphericity(X_scaled)\n",
    "print(\"Bartlett Sphericity Test\")\n",
    "print(\"Chi squared value : \",chi2)\n",
    "print(\"p value : \",p)"
   ]
  },
  {
   "cell_type": "markdown",
   "metadata": {},
   "source": [
    "Inference: Since the p value is 0 which is less than 0.05, we can conclude that correlation is present among the variables. So we can proceed for Factor analysis"
   ]
  },
  {
   "cell_type": "code",
   "execution_count": 82,
   "metadata": {},
   "outputs": [
    {
     "name": "stdout",
     "output_type": "stream",
     "text": [
      "KMO Test Statisitc 0.9909993922112564\n"
     ]
    }
   ],
   "source": [
    "kmo_all,kmo_model = calculate_kmo(X_scaled)\n",
    "print(\"KMO Test Statisitc\",kmo_model)"
   ]
  },
  {
   "cell_type": "markdown",
   "metadata": {},
   "source": [
    "Inference: Since the KMO test value is close to 1, there are many correleated features in the data which can be reduced using Factor Analysis"
   ]
  },
  {
   "cell_type": "code",
   "execution_count": 83,
   "metadata": {},
   "outputs": [],
   "source": [
    "from factor_analyzer import FactorAnalyzer\n",
    "fa = FactorAnalyzer(rotation = None,impute = \"drop\",n_factors=dataframe.shape[1])\n",
    "fa.fit(X_scaled)\n",
    "ev,_ = fa.get_eigenvalues()"
   ]
  },
  {
   "cell_type": "code",
   "execution_count": 84,
   "metadata": {},
   "outputs": [
    {
     "data": {
      "image/png": "[encoded data removed]",
      "text/plain": [
       "<Figure size 3600x7200 with 1 Axes>"
      ]
     },
     "metadata": {
      "needs_background": "light"
     },
     "output_type": "display_data"
    }
   ],
   "source": [
    "figure=plt.figure(figsize=(50,100))\n",
    "plt.scatter(range(1,dataframe.shape[1]+1),ev)\n",
    "plt.plot(range(1,dataframe.shape[1]+1),ev)\n",
    "plt.title('Scree Plot')\n",
    "plt.xlabel('Factors')\n",
    "plt.ylabel('Eigen Value')\n",
    "plt.xticks(np.arange(0,230,5))\n",
    "plt.yticks(np.arange(1,5,0.5))\n",
    "plt.grid()"
   ]
  },
  {
   "cell_type": "markdown",
   "metadata": {},
   "source": [
    "Inference: Totally 20 factors are greater than eigen values 1"
   ]
  },
  {
   "cell_type": "code",
   "execution_count": 35,
   "metadata": {},
   "outputs": [
    {
     "name": "stdout",
     "output_type": "stream",
     "text": [
      "           0         1         2         3         4         5         6   \\\n",
      "0   -0.022601 -0.141082  0.899252  0.008109 -0.003856  0.010500  0.008881   \n",
      "1   -0.071973 -0.293463  0.611919  0.016930  0.009320  0.010851 -0.004368   \n",
      "2    0.045043 -0.003520  0.043367 -0.082609 -0.000255  0.762528  0.065913   \n",
      "3    0.041169  0.007165  0.041285 -0.001222  0.014639  0.896302  0.054352   \n",
      "4    0.042242  0.015325  0.041109  0.072936  0.025423  0.963790  0.042114   \n",
      "..        ...       ...       ...       ...       ...       ...       ...   \n",
      "349  0.813063 -0.055227  0.012632  0.142788 -0.015140  0.158095  0.000096   \n",
      "350  0.837481 -0.050474  0.014810  0.130579 -0.003445  0.146964 -0.002458   \n",
      "351  0.866419 -0.043652  0.018796  0.096796  0.012169  0.129858 -0.003896   \n",
      "352  0.865883 -0.047433  0.018648  0.069745  0.003230  0.143889  0.000127   \n",
      "353  0.833978 -0.056546  0.015013  0.077189 -0.018452  0.173306  0.005144   \n",
      "\n",
      "           7         8         9         10        11        12        13  \\\n",
      "0    0.005026 -0.031367  0.002585 -0.063096  0.009969 -0.310929  0.006570   \n",
      "1    0.026828 -0.000016  0.004687 -0.415922  0.014559 -0.152565  0.063794   \n",
      "2   -0.010257  0.125228  0.496385  0.000031 -0.014639  0.003624  0.001987   \n",
      "3    0.023886  0.072198  0.348557 -0.003335 -0.006710  0.009750  0.001945   \n",
      "4    0.071878  0.031762  0.190398 -0.002088  0.001540  0.012336 -0.000299   \n",
      "..        ...       ...       ...       ...       ...       ...       ...   \n",
      "349  0.526332  0.036181 -0.017632 -0.063837 -0.007384  0.000973  0.004797   \n",
      "350  0.481747  0.062027 -0.027066 -0.080256 -0.015604 -0.001046  0.006221   \n",
      "351  0.396493  0.116017 -0.023157 -0.107575 -0.034811 -0.005936  0.009555   \n",
      "352  0.394523  0.110703  0.029786 -0.106280 -0.036698 -0.005584  0.009546   \n",
      "353  0.467406  0.058382  0.073010 -0.079735 -0.020525 -0.000937  0.006481   \n",
      "\n",
      "           14        15        16        17        18        19  \n",
      "0    0.001137  0.040903 -0.017810 -0.001216 -0.000278 -0.008825  \n",
      "1    0.173454  0.029116 -0.001341  0.011861 -0.003099  0.022924  \n",
      "2   -0.006912  0.004977 -0.010840 -0.136863 -0.132307 -0.049208  \n",
      "3   -0.001671  0.001815 -0.004509 -0.074363 -0.083214 -0.011892  \n",
      "4    0.007833 -0.001319  0.004401 -0.014896 -0.028291  0.026965  \n",
      "..        ...       ...       ...       ...       ...       ...  \n",
      "349 -0.042431  0.002095  0.001435 -0.003737 -0.010009 -0.060590  \n",
      "350 -0.055674  0.002017  0.008500 -0.006950  0.001141 -0.085460  \n",
      "351 -0.081792  0.002202  0.016854 -0.019235  0.007744 -0.129402  \n",
      "352 -0.084483  0.002872  0.009894 -0.035404 -0.000800 -0.134519  \n",
      "353 -0.062712  0.003321 -0.003847 -0.038231 -0.014799 -0.098908  \n",
      "\n",
      "[354 rows x 20 columns]\n"
     ]
    }
   ],
   "source": [
    "fa = FactorAnalyzer(n_factors=20, rotation='varimax')\n",
    "fa.fit(X_scaled)\n",
    "print(pd.DataFrame(fa.loadings_,index=dataframe.columns))"
   ]
  },
  {
   "cell_type": "code",
   "execution_count": 36,
   "metadata": {},
   "outputs": [
    {
     "data": {
      "text/plain": [
       "(8750, 22)"
      ]
     },
     "execution_count": 36,
     "metadata": {},
     "output_type": "execute_result"
    }
   ],
   "source": [
    "from sklearn.decomposition import FactorAnalysis\n",
    "transformer = FactorAnalysis(n_components=22, rotation='varimax', random_state=99)\n",
    "X_fa = transformer.fit_transform(X_scaled)\n",
    "X_fa.shape"
   ]
  },
  {
   "cell_type": "code",
   "execution_count": 37,
   "metadata": {},
   "outputs": [
    {
     "data": {
      "text/plain": [
       "array([[-0.10097044,  0.09198742,  0.07400481, ..., -0.01107647,\n",
       "        -0.08782807,  0.05455652],\n",
       "       [-0.09763474,  0.10339873,  0.08401585, ...,  0.06756863,\n",
       "        -0.06024811,  0.10522376],\n",
       "       [-0.10031387,  0.086275  ,  0.06556748, ...,  0.06093198,\n",
       "        -0.04858668,  0.05369665],\n",
       "       ...,\n",
       "       [-0.19768436,  1.23934796, -0.25926167, ..., -0.09340176,\n",
       "        -0.22150415, -0.23550252],\n",
       "       [-0.03384476,  0.96900084,  0.08390769, ..., -0.37143426,\n",
       "        -0.08954934, -0.32694388],\n",
       "       [-0.05884734,  0.95317679,  0.10363837, ..., -0.24571386,\n",
       "        -0.05607417, -0.24514189]])"
      ]
     },
     "execution_count": 37,
     "metadata": {},
     "output_type": "execute_result"
    }
   ],
   "source": [
    "X_fa"
   ]
  },
  {
   "cell_type": "code",
   "execution_count": 38,
   "metadata": {},
   "outputs": [],
   "source": [
    "# Function to calculate Explained Variance\n",
    "def explained_variance(dr_array,dr_arange,Total_Variance): \n",
    "    #Agruments\n",
    "    #Dimention reduction array #No. of Columns #Total Variance of the original dataset\n",
    "    dr_df = pd.DataFrame(dr_array,columns=np.arange(0, dr_arange))\n",
    "    dr_df_variance = dr_df.var() #calculates variance of features from DR\n",
    "    Indi_va = []\n",
    "    for va in dr_df_variance:\n",
    "        Indi_va.append(va / Total_Variance) #Proportion of variance \n",
    "    return(Indi_va)"
   ]
  },
  {
   "cell_type": "code",
   "execution_count": 39,
   "metadata": {},
   "outputs": [
    {
     "data": {
      "text/html": [
       "<div>\n",
       "<style scoped>\n",
       "    .dataframe tbody tr th:only-of-type {\n",
       "        vertical-align: middle;\n",
       "    }\n",
       "\n",
       "    .dataframe tbody tr th {\n",
       "        vertical-align: top;\n",
       "    }\n",
       "\n",
       "    .dataframe thead th {\n",
       "        text-align: right;\n",
       "    }\n",
       "</style>\n",
       "<table border=\"1\" class=\"dataframe\">\n",
       "  <thead>\n",
       "    <tr style=\"text-align: right;\">\n",
       "      <th></th>\n",
       "      <th>0</th>\n",
       "      <th>1</th>\n",
       "      <th>2</th>\n",
       "      <th>3</th>\n",
       "      <th>4</th>\n",
       "      <th>5</th>\n",
       "      <th>6</th>\n",
       "      <th>7</th>\n",
       "      <th>8</th>\n",
       "      <th>9</th>\n",
       "      <th>...</th>\n",
       "      <th>12</th>\n",
       "      <th>13</th>\n",
       "      <th>14</th>\n",
       "      <th>15</th>\n",
       "      <th>16</th>\n",
       "      <th>17</th>\n",
       "      <th>18</th>\n",
       "      <th>19</th>\n",
       "      <th>20</th>\n",
       "      <th>21</th>\n",
       "    </tr>\n",
       "  </thead>\n",
       "  <tbody>\n",
       "    <tr>\n",
       "      <th>0</th>\n",
       "      <td>0.235869</td>\n",
       "      <td>0.282435</td>\n",
       "      <td>0.479031</td>\n",
       "      <td>0.305906</td>\n",
       "      <td>0.741837</td>\n",
       "      <td>0.528883</td>\n",
       "      <td>0.368490</td>\n",
       "      <td>0.490140</td>\n",
       "      <td>0.380566</td>\n",
       "      <td>0.242351</td>\n",
       "      <td>...</td>\n",
       "      <td>0.419337</td>\n",
       "      <td>0.628123</td>\n",
       "      <td>0.188886</td>\n",
       "      <td>0.689061</td>\n",
       "      <td>0.303412</td>\n",
       "      <td>0.232072</td>\n",
       "      <td>0.209478</td>\n",
       "      <td>0.552572</td>\n",
       "      <td>0.513599</td>\n",
       "      <td>0.405916</td>\n",
       "    </tr>\n",
       "    <tr>\n",
       "      <th>1</th>\n",
       "      <td>0.236084</td>\n",
       "      <td>0.283072</td>\n",
       "      <td>0.479387</td>\n",
       "      <td>0.306551</td>\n",
       "      <td>0.741445</td>\n",
       "      <td>0.529301</td>\n",
       "      <td>0.368299</td>\n",
       "      <td>0.490319</td>\n",
       "      <td>0.379326</td>\n",
       "      <td>0.242538</td>\n",
       "      <td>...</td>\n",
       "      <td>0.424596</td>\n",
       "      <td>0.630292</td>\n",
       "      <td>0.194587</td>\n",
       "      <td>0.691010</td>\n",
       "      <td>0.302513</td>\n",
       "      <td>0.232443</td>\n",
       "      <td>0.212364</td>\n",
       "      <td>0.554994</td>\n",
       "      <td>0.514927</td>\n",
       "      <td>0.406971</td>\n",
       "    </tr>\n",
       "    <tr>\n",
       "      <th>2</th>\n",
       "      <td>0.235911</td>\n",
       "      <td>0.282116</td>\n",
       "      <td>0.478731</td>\n",
       "      <td>0.305725</td>\n",
       "      <td>0.741230</td>\n",
       "      <td>0.529058</td>\n",
       "      <td>0.368415</td>\n",
       "      <td>0.488553</td>\n",
       "      <td>0.378703</td>\n",
       "      <td>0.242769</td>\n",
       "      <td>...</td>\n",
       "      <td>0.418466</td>\n",
       "      <td>0.628178</td>\n",
       "      <td>0.193445</td>\n",
       "      <td>0.689966</td>\n",
       "      <td>0.305020</td>\n",
       "      <td>0.232639</td>\n",
       "      <td>0.209207</td>\n",
       "      <td>0.554790</td>\n",
       "      <td>0.515489</td>\n",
       "      <td>0.405898</td>\n",
       "    </tr>\n",
       "    <tr>\n",
       "      <th>3</th>\n",
       "      <td>0.235705</td>\n",
       "      <td>0.282220</td>\n",
       "      <td>0.478666</td>\n",
       "      <td>0.306560</td>\n",
       "      <td>0.741598</td>\n",
       "      <td>0.529215</td>\n",
       "      <td>0.368145</td>\n",
       "      <td>0.490298</td>\n",
       "      <td>0.379958</td>\n",
       "      <td>0.242560</td>\n",
       "      <td>...</td>\n",
       "      <td>0.427274</td>\n",
       "      <td>0.630992</td>\n",
       "      <td>0.190941</td>\n",
       "      <td>0.689377</td>\n",
       "      <td>0.303556</td>\n",
       "      <td>0.232278</td>\n",
       "      <td>0.209015</td>\n",
       "      <td>0.554041</td>\n",
       "      <td>0.514294</td>\n",
       "      <td>0.406443</td>\n",
       "    </tr>\n",
       "    <tr>\n",
       "      <th>4</th>\n",
       "      <td>0.235964</td>\n",
       "      <td>0.282340</td>\n",
       "      <td>0.479211</td>\n",
       "      <td>0.306638</td>\n",
       "      <td>0.741291</td>\n",
       "      <td>0.529543</td>\n",
       "      <td>0.368151</td>\n",
       "      <td>0.489648</td>\n",
       "      <td>0.379537</td>\n",
       "      <td>0.242631</td>\n",
       "      <td>...</td>\n",
       "      <td>0.424333</td>\n",
       "      <td>0.632866</td>\n",
       "      <td>0.194938</td>\n",
       "      <td>0.690044</td>\n",
       "      <td>0.304995</td>\n",
       "      <td>0.232279</td>\n",
       "      <td>0.211578</td>\n",
       "      <td>0.556343</td>\n",
       "      <td>0.516191</td>\n",
       "      <td>0.406312</td>\n",
       "    </tr>\n",
       "  </tbody>\n",
       "</table>\n",
       "<p>5 rows × 22 columns</p>\n",
       "</div>"
      ],
      "text/plain": [
       "         0         1         2         3         4         5         6   \\\n",
       "0  0.235869  0.282435  0.479031  0.305906  0.741837  0.528883  0.368490   \n",
       "1  0.236084  0.283072  0.479387  0.306551  0.741445  0.529301  0.368299   \n",
       "2  0.235911  0.282116  0.478731  0.305725  0.741230  0.529058  0.368415   \n",
       "3  0.235705  0.282220  0.478666  0.306560  0.741598  0.529215  0.368145   \n",
       "4  0.235964  0.282340  0.479211  0.306638  0.741291  0.529543  0.368151   \n",
       "\n",
       "         7         8         9   ...        12        13        14        15  \\\n",
       "0  0.490140  0.380566  0.242351  ...  0.419337  0.628123  0.188886  0.689061   \n",
       "1  0.490319  0.379326  0.242538  ...  0.424596  0.630292  0.194587  0.691010   \n",
       "2  0.488553  0.378703  0.242769  ...  0.418466  0.628178  0.193445  0.689966   \n",
       "3  0.490298  0.379958  0.242560  ...  0.427274  0.630992  0.190941  0.689377   \n",
       "4  0.489648  0.379537  0.242631  ...  0.424333  0.632866  0.194938  0.690044   \n",
       "\n",
       "         16        17        18        19        20        21  \n",
       "0  0.303412  0.232072  0.209478  0.552572  0.513599  0.405916  \n",
       "1  0.302513  0.232443  0.212364  0.554994  0.514927  0.406971  \n",
       "2  0.305020  0.232639  0.209207  0.554790  0.515489  0.405898  \n",
       "3  0.303556  0.232278  0.209015  0.554041  0.514294  0.406443  \n",
       "4  0.304995  0.232279  0.211578  0.556343  0.516191  0.406312  \n",
       "\n",
       "[5 rows x 22 columns]"
      ]
     },
     "execution_count": 39,
     "metadata": {},
     "output_type": "execute_result"
    }
   ],
   "source": [
    "from sklearn.preprocessing import MinMaxScaler\n",
    "scaler = MinMaxScaler(feature_range=(0,1))\n",
    "\n",
    "X_fa_scaled=scaler.fit_transform(X_fa)\n",
    "X_fa_scaled_df = pd.DataFrame(X_fa_scaled,columns=np.arange(0, 22))\n",
    "X_fa_scaled_df.head()"
   ]
  },
  {
   "cell_type": "markdown",
   "metadata": {},
   "source": [
    "## Classical multidimensional scaling [MDS]"
   ]
  },
  {
   "cell_type": "code",
   "execution_count": 61,
   "metadata": {},
   "outputs": [],
   "source": [
    "from sklearn.manifold import MDS\n"
   ]
  },
  {
   "cell_type": "code",
   "execution_count": null,
   "metadata": {},
   "outputs": [],
   "source": [
    "#mds = MDS(n_components=2, random_state=0)\n",
    "#X_mds = mds.fit_transform(X_scaled)\n",
    "#print(X_mds)"
   ]
  },
  {
   "cell_type": "code",
   "execution_count": null,
   "metadata": {},
   "outputs": [],
   "source": [
    "#X_mds_scaled=scaler.fit_transform(X_mds)\n",
    "#X_mds_scaled_df = pd.DataFrame(X_mds_scaled,columns=np.arange(0, 2))\n",
    "#X_mds_scaled_df.head()"
   ]
  },
  {
   "cell_type": "markdown",
   "metadata": {},
   "source": [
    "# StratifiedKFold"
   ]
  },
  {
   "cell_type": "code",
   "execution_count": 41,
   "metadata": {},
   "outputs": [
    {
     "data": {
      "text/plain": [
       "10"
      ]
     },
     "execution_count": 41,
     "metadata": {},
     "output_type": "execute_result"
    }
   ],
   "source": [
    "# Splitting dataset into 10 folds for cross-validation, shuffle creates a random shuffle within the splits,\n",
    "# random state helps to obtain the same shuffle in every execution see sklearn documentation for furthur info.\n",
    "from sklearn.model_selection import StratifiedKFold\n",
    "from sklearn.model_selection import cross_val_score\n",
    "k_fold = StratifiedKFold(n_splits=10, shuffle=True, random_state=99)\n",
    "\n",
    "k_fold.get_n_splits(X_scaled, y)"
   ]
  },
  {
   "cell_type": "markdown",
   "metadata": {},
   "source": [
    "# Random Forest [RF]"
   ]
  },
  {
   "cell_type": "markdown",
   "metadata": {},
   "source": [
    "## Baseline"
   ]
  },
  {
   "cell_type": "code",
   "execution_count": 85,
   "metadata": {},
   "outputs": [],
   "source": [
    "#number of trees in RF\n",
    "n_estimators= [int(x) for x in np.linspace(start=10, stop=100, num=10)]\n",
    "#Number of features to consider at every split\n",
    "max_features=['auto','sqrt']\n",
    "#maximum number of levels in tree\n",
    "max_depth=[2,4,6]\n",
    "#methods of selecting samples for training each tree\n",
    "bootstrap=[True, False]"
   ]
  },
  {
   "cell_type": "code",
   "execution_count": 86,
   "metadata": {},
   "outputs": [
    {
     "data": {
      "text/plain": [
       "{'n_estimators': [10, 20, 30, 40, 50, 60, 70, 80, 90, 100],\n",
       " 'max_features': ['auto', 'sqrt'],\n",
       " 'max_depth': [2, 4, 6],\n",
       " 'bootstrap': [True, False]}"
      ]
     },
     "execution_count": 86,
     "metadata": {},
     "output_type": "execute_result"
    }
   ],
   "source": [
    "#Create the random grid\n",
    "param_grid={'n_estimators': n_estimators,\n",
    "            'max_features': max_features,\n",
    "            'max_depth': max_depth,\n",
    "           \n",
    "            'bootstrap': bootstrap}\n",
    "param_grid"
   ]
  },
  {
   "cell_type": "code",
   "execution_count": 87,
   "metadata": {},
   "outputs": [],
   "source": [
    "from sklearn.ensemble import RandomForestClassifier\n",
    "from sklearn.model_selection import GridSearchCV\n",
    "RF_Grid= GridSearchCV(estimator=RandomForestClassifier(), param_grid=param_grid, cv=10, verbose=2, n_jobs=4)"
   ]
  },
  {
   "cell_type": "code",
   "execution_count": 88,
   "metadata": {},
   "outputs": [],
   "source": [
    "X_rf = X\n",
    "y_rf = y"
   ]
  },
  {
   "cell_type": "code",
   "execution_count": 46,
   "metadata": {},
   "outputs": [
    {
     "name": "stdout",
     "output_type": "stream",
     "text": [
      "Fitting 10 folds for each of 120 candidates, totalling 1200 fits\n"
     ]
    },
    {
     "data": {
      "text/plain": [
       "GridSearchCV(cv=10, estimator=RandomForestClassifier(), n_jobs=4,\n",
       "             param_grid={'bootstrap': [True, False], 'max_depth': [2, 4, 6],\n",
       "                         'max_features': ['auto', 'sqrt'],\n",
       "                         'n_estimators': [10, 20, 30, 40, 50, 60, 70, 80, 90,\n",
       "                                          100]},\n",
       "             verbose=2)"
      ]
     },
     "execution_count": 46,
     "metadata": {},
     "output_type": "execute_result"
    }
   ],
   "source": [
    "RF_Grid.fit(X_rf,y_rf)"
   ]
  },
  {
   "cell_type": "code",
   "execution_count": 89,
   "metadata": {},
   "outputs": [
    {
     "ename": "AttributeError",
     "evalue": "'GridSearchCV' object has no attribute 'best_params_'",
     "output_type": "error",
     "traceback": [
      "\u001b[1;31m---------------------------------------------------------------------------\u001b[0m",
      "\u001b[1;31mAttributeError\u001b[0m                            Traceback (most recent call last)",
      "\u001b[1;32m<ipython-input-89-c5c068e9153f>\u001b[0m in \u001b[0;36m<module>\u001b[1;34m\u001b[0m\n\u001b[1;32m----> 1\u001b[1;33m \u001b[0mRF_Grid\u001b[0m\u001b[1;33m.\u001b[0m\u001b[0mbest_params_\u001b[0m\u001b[1;33m\u001b[0m\u001b[1;33m\u001b[0m\u001b[0m\n\u001b[0m",
      "\u001b[1;31mAttributeError\u001b[0m: 'GridSearchCV' object has no attribute 'best_params_'"
     ]
    }
   ],
   "source": [
    "RF_Grid.best_params_"
   ]
  },
  {
   "cell_type": "code",
   "execution_count": 49,
   "metadata": {},
   "outputs": [],
   "source": [
    "RF_Model= RandomForestClassifier(n_estimators=90,max_depth=6)"
   ]
  },
  {
   "cell_type": "markdown",
   "metadata": {},
   "source": [
    "### Random Forest Baseline Score"
   ]
  },
  {
   "cell_type": "code",
   "execution_count": 90,
   "metadata": {},
   "outputs": [
    {
     "name": "stdout",
     "output_type": "stream",
     "text": [
      "[0.5553782  0.56448012 0.55513651 0.51756511 0.5503082  0.56043129\n",
      " 0.55717893 0.57522915 0.585645   0.51969339]\n",
      "Total F1_WEIGHTED = 0.5541045894686473\n",
      "[0.61257143 0.60457143 0.6        0.60342857 0.62742857 0.59314286\n",
      " 0.60342857 0.60914286 0.62057143 0.58171429]\n",
      "Total ACCURACY = 0.6056000000000001\n"
     ]
    }
   ],
   "source": [
    "RF_Base_F1_10Folds = cross_val_score(RF_Model, X_scaled, y, cv=k_fold,scoring='f1_weighted')\n",
    "print(RF_Base_F1_10Folds)\n",
    "print('Total F1_WEIGHTED = {}'.format(RF_Base_F1_10Folds.mean()))\n",
    "RF_Base_Acc_10Folds = cross_val_score(RF_Model, X_scaled, y, cv=k_fold,scoring='accuracy')\n",
    "print(RF_Base_Acc_10Folds)\n",
    "print('Total ACCURACY = {}'.format(RF_Base_Acc_10Folds.mean()))\n"
   ]
  },
  {
   "cell_type": "markdown",
   "metadata": {},
   "source": [
    "## Random Forest PCA Score"
   ]
  },
  {
   "cell_type": "code",
   "execution_count": 52,
   "metadata": {},
   "outputs": [],
   "source": [
    "RF_pca = PCA(n_components = 30,random_state=99, svd_solver='full')\n",
    "RF_pca.fit(X_scaled)\n",
    "X_rf_pca = RF_pca.transform(X_scaled)\n",
    "X_rf_pca.shape\n",
    "scaler = MinMaxScaler(feature_range=(0,1))\n",
    "X_rf_pca_scaled=scaler.fit_transform(X_rf_pca)\n"
   ]
  },
  {
   "cell_type": "code",
   "execution_count": 53,
   "metadata": {},
   "outputs": [
    {
     "name": "stdout",
     "output_type": "stream",
     "text": [
      "[0.57130732 0.56075504 0.56493503 0.56328407 0.56679214 0.56538128\n",
      " 0.57244838 0.5662272  0.56438428 0.54659695]\n",
      "Total F1_WEIGHTED = 0.56421116850051\n",
      "[0.60571429 0.58971429 0.59771429 0.576      0.57371429 0.58514286\n",
      " 0.59085714 0.57142857 0.6        0.57828571]\n",
      "Total ACCURACY = 0.5868571428571429\n"
     ]
    }
   ],
   "source": [
    "RF_pca_F1_10Folds = cross_val_score(RF_Model, X_rf_pca_scaled, y, cv=k_fold,scoring='f1_weighted')\n",
    "print(RF_pca_F1_10Folds)\n",
    "print('Total F1_WEIGHTED = {}'.format(RF_pca_F1_10Folds.mean()))\n",
    "RF_pca_Acc_10Folds = cross_val_score(RF_Model, X_rf_pca_scaled, y, cv=k_fold,scoring='accuracy')\n",
    "print(RF_pca_Acc_10Folds)\n",
    "print('Total ACCURACY = {}'.format(RF_pca_Acc_10Folds.mean()))"
   ]
  },
  {
   "cell_type": "code",
   "execution_count": 54,
   "metadata": {},
   "outputs": [
    {
     "name": "stdout",
     "output_type": "stream",
     "text": [
      "[0.42383601898099255, 0.17569099732003549, 0.09252383535898667, 0.0744314736799038, 0.055435967195011975, 0.0439585036998175, 0.023651573662155864, 0.02253860646313772, 0.01619676220152355, 0.013419288123645328, 0.011324584917762103, 0.009385663721009857, 0.007518256094997784, 0.005878021272562409, 0.004897873321371895, 0.004448075282475795, 0.003674918098641997, 0.0029180514229314807, 0.0027134472023094174, 0.0024227548132143163, 0.002206388328093429, 0.0019672828887101505, 0.001885572164908345, 0.0016144915779515226, 0.0013258935237230578, 0.0011679610853416328, 0.0010060980783308834, 0.000936890668258368, 0.0008475826052506312, 0.000800489555785997]\n"
     ]
    }
   ],
   "source": [
    "#explained variance calculation\n",
    "rf_pca_variance = explained_variance(dr_array=X_rf_pca, dr_arange=30, Total_Variance=X_Total_Variance)\n",
    "print(rf_pca_variance)"
   ]
  },
  {
   "cell_type": "markdown",
   "metadata": {},
   "source": [
    "## Random Forest FA Score"
   ]
  },
  {
   "cell_type": "code",
   "execution_count": 91,
   "metadata": {},
   "outputs": [],
   "source": [
    "RF_fa = FactorAnalysis(n_components=30, rotation='varimax', random_state=99)\n",
    "RF_fa.fit(X_scaled)\n",
    "X_rf_fa = RF_fa.transform(X_scaled)\n",
    "X_rf_fa.shape\n",
    "scaler = MinMaxScaler(feature_range=(0,1))\n",
    "X_rf_fa_scaled=scaler.fit_transform(X_rf_fa)"
   ]
  },
  {
   "cell_type": "code",
   "execution_count": 92,
   "metadata": {},
   "outputs": [
    {
     "name": "stdout",
     "output_type": "stream",
     "text": [
      "[0.64239779 0.61123893 0.62479036 0.64617108 0.57674269 0.63413023\n",
      " 0.62517351 0.61485457 0.63094831 0.59943506]\n",
      "Total F1_WEIGHTED = 0.6205882514048416\n",
      "[0.67771429 0.63771429 0.63657143 0.65028571 0.63542857 0.632\n",
      " 0.65828571 0.62514286 0.65028571 0.62285714]\n",
      "Total ACCURACY = 0.6426285714285714\n"
     ]
    }
   ],
   "source": [
    "RF_fa_F1_10Folds = cross_val_score(RF_Model, X_rf_fa_scaled, y, cv=k_fold,scoring='f1_weighted')\n",
    "print(RF_fa_F1_10Folds)\n",
    "print('Total F1_WEIGHTED = {}'.format(RF_fa_F1_10Folds.mean()))\n",
    "RF_fa_Acc_10Folds = cross_val_score(RF_Model, X_rf_fa_scaled, y, cv=k_fold,scoring='accuracy')\n",
    "print(RF_fa_Acc_10Folds)\n",
    "print('Total ACCURACY = {}'.format(RF_fa_Acc_10Folds.mean()))"
   ]
  },
  {
   "cell_type": "code",
   "execution_count": 57,
   "metadata": {},
   "outputs": [
    {
     "name": "stdout",
     "output_type": "stream",
     "text": [
      "[1.364882453819143, 1.3646971558950665, 1.3647656478961614, 1.3563511572359406, 1.3607285693480111, 1.3633274934943191, 1.3647365629615573, 1.3630988040440577, 1.3599499841450768, 1.3646260984591294, 1.3645958528842668, 1.3633223316134395, 1.3589630438288596, 1.364741869326168, 1.3643490019985545, 1.363862674770849, 1.3642840276430572, 1.3573217764036964, 1.364080354611471, 1.3620102784656694, 1.3562885834735436, 1.3561118196334696, 1.3558312428961512, 1.362632959939536, 1.3601165058752966, 1.363193990830773, 1.3634469397186693, 1.363680046476138, 1.3615076877524273, 1.3538440477960005]\n"
     ]
    }
   ],
   "source": [
    "#explained variance calculation\n",
    "rf_fa_variance = explained_variance(dr_array=X_rf_fa, dr_arange=30, Total_Variance=X_Total_Variance)\n",
    "print(rf_fa_variance)"
   ]
  },
  {
   "cell_type": "markdown",
   "metadata": {},
   "source": [
    "## Random Forest MDS Score"
   ]
  },
  {
   "cell_type": "code",
   "execution_count": 70,
   "metadata": {},
   "outputs": [
    {
     "name": "stdout",
     "output_type": "stream",
     "text": [
      "[[-0.02386404 -0.00241954]\n",
      " [-0.02509795 -0.00513155]\n",
      " [-0.02937071  0.01649862]\n",
      " ...\n",
      " [ 0.16424079  0.10551783]\n",
      " [-1.27382677 -0.05251284]\n",
      " [-0.22577497 -0.03651606]]\n"
     ]
    },
    {
     "data": {
      "text/html": [
       "<div>\n",
       "<style scoped>\n",
       "    .dataframe tbody tr th:only-of-type {\n",
       "        vertical-align: middle;\n",
       "    }\n",
       "\n",
       "    .dataframe tbody tr th {\n",
       "        vertical-align: top;\n",
       "    }\n",
       "\n",
       "    .dataframe thead th {\n",
       "        text-align: right;\n",
       "    }\n",
       "</style>\n",
       "<table border=\"1\" class=\"dataframe\">\n",
       "  <thead>\n",
       "    <tr style=\"text-align: right;\">\n",
       "      <th></th>\n",
       "      <th>0</th>\n",
       "      <th>1</th>\n",
       "    </tr>\n",
       "  </thead>\n",
       "  <tbody>\n",
       "    <tr>\n",
       "      <th>0</th>\n",
       "      <td>0.497854</td>\n",
       "      <td>0.534660</td>\n",
       "    </tr>\n",
       "    <tr>\n",
       "      <th>1</th>\n",
       "      <td>0.497755</td>\n",
       "      <td>0.534433</td>\n",
       "    </tr>\n",
       "    <tr>\n",
       "      <th>2</th>\n",
       "      <td>0.497412</td>\n",
       "      <td>0.536244</td>\n",
       "    </tr>\n",
       "    <tr>\n",
       "      <th>3</th>\n",
       "      <td>0.497460</td>\n",
       "      <td>0.534188</td>\n",
       "    </tr>\n",
       "    <tr>\n",
       "      <th>4</th>\n",
       "      <td>0.498184</td>\n",
       "      <td>0.536853</td>\n",
       "    </tr>\n",
       "  </tbody>\n",
       "</table>\n",
       "</div>"
      ],
      "text/plain": [
       "          0         1\n",
       "0  0.497854  0.534660\n",
       "1  0.497755  0.534433\n",
       "2  0.497412  0.536244\n",
       "3  0.497460  0.534188\n",
       "4  0.498184  0.536853"
      ]
     },
     "execution_count": 70,
     "metadata": {},
     "output_type": "execute_result"
    }
   ],
   "source": [
    "RF_mds = MDS(n_components=2, random_state=99)\n",
    "X_rf_mds = mds.fit_transform(X_scaled)\n",
    "print(X_rf_mds)\n",
    "X_rf_mds_scaled=scaler.fit_transform(X_rf_mds)\n",
    "X_rf_mds_scaled_df = pd.DataFrame(X_rf_mds_scaled,columns=np.arange(0, 2))\n",
    "X_rf_mds_scaled_df.head()"
   ]
  },
  {
   "cell_type": "code",
   "execution_count": 71,
   "metadata": {},
   "outputs": [
    {
     "name": "stdout",
     "output_type": "stream",
     "text": [
      "[0.29563587 0.30664617 0.30867589 0.29910916 0.30048286 0.30315617\n",
      " 0.30327786 0.31150273 0.30018427 0.29935741]\n",
      "Total F1_WEIGHTED = 0.3028028391251291\n",
      "[0.33028571 0.33371429 0.34171429 0.32571429 0.32228571 0.34857143\n",
      " 0.344      0.328      0.344      0.32685714]\n",
      "Total ACCURACY = 0.3345142857142857\n"
     ]
    }
   ],
   "source": [
    "RF_mds_F1_10Folds = cross_val_score(RF_Model, X_rf_mds_scaled, y, cv=k_fold,scoring='f1_weighted')\n",
    "print(RF_mds_F1_10Folds)\n",
    "print('Total F1_WEIGHTED = {}'.format(RF_mds_F1_10Folds.mean()))\n",
    "RF_mds_Acc_10Folds = cross_val_score(RF_Model, X_rf_mds_scaled, y, cv=k_fold,scoring='accuracy')\n",
    "print(RF_mds_Acc_10Folds)\n",
    "print('Total ACCURACY = {}'.format(RF_mds_Acc_10Folds.mean()))"
   ]
  },
  {
   "cell_type": "code",
   "execution_count": 72,
   "metadata": {},
   "outputs": [
    {
     "name": "stdout",
     "output_type": "stream",
     "text": [
      "[0.47527134278706296, 0.5289846192475289]\n"
     ]
    }
   ],
   "source": [
    "#explained variance calculation\n",
    "rf_mds_variance = explained_variance(dr_array=X_rf_mds, dr_arange=2, Total_Variance=X_Total_Variance)\n",
    "print(rf_mds_variance)"
   ]
  },
  {
   "cell_type": "markdown",
   "metadata": {},
   "source": [
    "## Random Forest MDS Score (After submission)"
   ]
  },
  {
   "cell_type": "code",
   "execution_count": 66,
   "metadata": {},
   "outputs": [
    {
     "name": "stdout",
     "output_type": "stream",
     "text": [
      "[[-1.48592165e-02 -2.80890045e-02  5.01823171e-03 ... -2.54941753e-02\n",
      "  -2.19020281e-03  1.13057146e-02]\n",
      " [-2.04474371e-02 -8.39192236e-03  9.29339697e-03 ...  5.39569850e-03\n",
      "   8.82183008e-04  8.34119401e-03]\n",
      " [-2.51182531e-02  1.96759598e-02  3.42144259e-03 ...  3.86825922e-03\n",
      "   2.78104409e-02  1.73893157e-02]\n",
      " ...\n",
      " [-1.23173613e+00 -2.36684335e-02 -3.74543384e-01 ...  3.80495522e-01\n",
      "  -1.83878905e-01 -2.81252432e-01]\n",
      " [ 2.66570735e-02  1.87394278e-02 -2.08743320e-02 ...  4.85445093e-02\n",
      "   3.92834972e-02 -1.82296435e-02]\n",
      " [ 5.35081179e-02 -3.27930317e-05  2.62686997e-02 ...  4.30978086e-02\n",
      "   2.49771308e-02  5.14911924e-03]]\n"
     ]
    },
    {
     "data": {
      "text/html": [
       "<div>\n",
       "<style scoped>\n",
       "    .dataframe tbody tr th:only-of-type {\n",
       "        vertical-align: middle;\n",
       "    }\n",
       "\n",
       "    .dataframe tbody tr th {\n",
       "        vertical-align: top;\n",
       "    }\n",
       "\n",
       "    .dataframe thead th {\n",
       "        text-align: right;\n",
       "    }\n",
       "</style>\n",
       "<table border=\"1\" class=\"dataframe\">\n",
       "  <thead>\n",
       "    <tr style=\"text-align: right;\">\n",
       "      <th></th>\n",
       "      <th>0</th>\n",
       "      <th>1</th>\n",
       "      <th>2</th>\n",
       "      <th>3</th>\n",
       "      <th>4</th>\n",
       "      <th>5</th>\n",
       "      <th>6</th>\n",
       "      <th>7</th>\n",
       "      <th>8</th>\n",
       "      <th>9</th>\n",
       "      <th>10</th>\n",
       "      <th>11</th>\n",
       "      <th>12</th>\n",
       "      <th>13</th>\n",
       "    </tr>\n",
       "  </thead>\n",
       "  <tbody>\n",
       "    <tr>\n",
       "      <th>0</th>\n",
       "      <td>0.540917</td>\n",
       "      <td>0.381308</td>\n",
       "      <td>0.408238</td>\n",
       "      <td>0.463105</td>\n",
       "      <td>0.488427</td>\n",
       "      <td>0.581925</td>\n",
       "      <td>0.626045</td>\n",
       "      <td>0.656900</td>\n",
       "      <td>0.472915</td>\n",
       "      <td>0.590748</td>\n",
       "      <td>0.542934</td>\n",
       "      <td>0.440120</td>\n",
       "      <td>0.429047</td>\n",
       "      <td>0.691696</td>\n",
       "    </tr>\n",
       "    <tr>\n",
       "      <th>1</th>\n",
       "      <td>0.539775</td>\n",
       "      <td>0.385589</td>\n",
       "      <td>0.408929</td>\n",
       "      <td>0.454776</td>\n",
       "      <td>0.494574</td>\n",
       "      <td>0.585712</td>\n",
       "      <td>0.629159</td>\n",
       "      <td>0.657715</td>\n",
       "      <td>0.466416</td>\n",
       "      <td>0.588270</td>\n",
       "      <td>0.549328</td>\n",
       "      <td>0.447305</td>\n",
       "      <td>0.429794</td>\n",
       "      <td>0.691251</td>\n",
       "    </tr>\n",
       "    <tr>\n",
       "      <th>2</th>\n",
       "      <td>0.538820</td>\n",
       "      <td>0.391689</td>\n",
       "      <td>0.407979</td>\n",
       "      <td>0.459223</td>\n",
       "      <td>0.490871</td>\n",
       "      <td>0.579184</td>\n",
       "      <td>0.625317</td>\n",
       "      <td>0.658575</td>\n",
       "      <td>0.463906</td>\n",
       "      <td>0.586222</td>\n",
       "      <td>0.550428</td>\n",
       "      <td>0.446950</td>\n",
       "      <td>0.436340</td>\n",
       "      <td>0.692608</td>\n",
       "    </tr>\n",
       "    <tr>\n",
       "      <th>3</th>\n",
       "      <td>0.544280</td>\n",
       "      <td>0.386533</td>\n",
       "      <td>0.407645</td>\n",
       "      <td>0.461274</td>\n",
       "      <td>0.486139</td>\n",
       "      <td>0.585636</td>\n",
       "      <td>0.624433</td>\n",
       "      <td>0.658111</td>\n",
       "      <td>0.469999</td>\n",
       "      <td>0.579429</td>\n",
       "      <td>0.554203</td>\n",
       "      <td>0.442677</td>\n",
       "      <td>0.435362</td>\n",
       "      <td>0.690069</td>\n",
       "    </tr>\n",
       "    <tr>\n",
       "      <th>4</th>\n",
       "      <td>0.542963</td>\n",
       "      <td>0.380956</td>\n",
       "      <td>0.404168</td>\n",
       "      <td>0.459071</td>\n",
       "      <td>0.484479</td>\n",
       "      <td>0.582990</td>\n",
       "      <td>0.622707</td>\n",
       "      <td>0.656986</td>\n",
       "      <td>0.469353</td>\n",
       "      <td>0.580254</td>\n",
       "      <td>0.547319</td>\n",
       "      <td>0.439235</td>\n",
       "      <td>0.433862</td>\n",
       "      <td>0.688899</td>\n",
       "    </tr>\n",
       "  </tbody>\n",
       "</table>\n",
       "</div>"
      ],
      "text/plain": [
       "         0         1         2         3         4         5         6   \\\n",
       "0  0.540917  0.381308  0.408238  0.463105  0.488427  0.581925  0.626045   \n",
       "1  0.539775  0.385589  0.408929  0.454776  0.494574  0.585712  0.629159   \n",
       "2  0.538820  0.391689  0.407979  0.459223  0.490871  0.579184  0.625317   \n",
       "3  0.544280  0.386533  0.407645  0.461274  0.486139  0.585636  0.624433   \n",
       "4  0.542963  0.380956  0.404168  0.459071  0.484479  0.582990  0.622707   \n",
       "\n",
       "         7         8         9         10        11        12        13  \n",
       "0  0.656900  0.472915  0.590748  0.542934  0.440120  0.429047  0.691696  \n",
       "1  0.657715  0.466416  0.588270  0.549328  0.447305  0.429794  0.691251  \n",
       "2  0.658575  0.463906  0.586222  0.550428  0.446950  0.436340  0.692608  \n",
       "3  0.658111  0.469999  0.579429  0.554203  0.442677  0.435362  0.690069  \n",
       "4  0.656986  0.469353  0.580254  0.547319  0.439235  0.433862  0.688899  "
      ]
     },
     "execution_count": 66,
     "metadata": {},
     "output_type": "execute_result"
    }
   ],
   "source": [
    "RF_mds = MDS(n_components=14, random_state=99)\n",
    "X_rf_mds = RF_mds.fit_transform(X_scaled)\n",
    "print(X_rf_mds)\n",
    "X_rf_mds_scaled=scaler.fit_transform(X_rf_mds)\n",
    "X_rf_mds_scaled_df = pd.DataFrame(X_rf_mds_scaled,columns=np.arange(0, 14))\n",
    "X_rf_mds_scaled_df.head()"
   ]
  },
  {
   "cell_type": "code",
   "execution_count": 67,
   "metadata": {},
   "outputs": [
    {
     "name": "stdout",
     "output_type": "stream",
     "text": [
      "[0.36727498 0.36157811 0.34589353 0.32287897 0.36361352 0.35775778\n",
      " 0.36322543 0.35634645 0.36669943 0.37623011]\n",
      "Total F1_WEIGHTED = 0.35814983056615146\n",
      "[0.39314286 0.38057143 0.384      0.38057143 0.408      0.39085714\n",
      " 0.39428571 0.38971429 0.39657143 0.39428571]\n",
      "Total ACCURACY = 0.3912\n"
     ]
    }
   ],
   "source": [
    "RF_mds_F1_10Folds = cross_val_score(RF_Model, X_rf_mds_scaled, y, cv=k_fold,scoring='f1_weighted')\n",
    "print(RF_mds_F1_10Folds)\n",
    "print('Total F1_WEIGHTED = {}'.format(RF_mds_F1_10Folds.mean()))\n",
    "RF_mds_Acc_10Folds = cross_val_score(RF_Model, X_rf_mds_scaled, y, cv=k_fold,scoring='accuracy')\n",
    "print(RF_mds_Acc_10Folds)\n",
    "print('Total ACCURACY = {}'.format(RF_mds_Acc_10Folds.mean()))"
   ]
  },
  {
   "cell_type": "code",
   "execution_count": 69,
   "metadata": {},
   "outputs": [
    {
     "name": "stdout",
     "output_type": "stream",
     "text": [
      "[0.07246731892036852, 0.0421268176407371, 0.11265257594541557, 0.05562857610361976, 0.06703496873244288, 0.04957022574673489, 0.08898956853465295, 0.06315857056824946, 0.05162638069356888, 0.041132755406121685, 0.05423392578304504, 0.0633323171343718, 0.05546019723087376, 0.20357845764104354]\n"
     ]
    }
   ],
   "source": [
    "#explained variance calculation\n",
    "rf_mds_variance = explained_variance(dr_array=X_rf_mds, dr_arange=14, Total_Variance=X_Total_Variance)\n",
    "print(rf_mds_variance)"
   ]
  },
  {
   "cell_type": "markdown",
   "metadata": {},
   "source": [
    "# Multilayer Perceptron [MLP]"
   ]
  },
  {
   "cell_type": "code",
   "execution_count": 78,
   "metadata": {},
   "outputs": [],
   "source": [
    "#Multi-layer Perceptron\n",
    "from sklearn.neural_network import MLPClassifier\n",
    "mlp = MLPClassifier(max_iter=1000, hidden_layer_sizes=(50,30,20), activation='relu', random_state=99)"
   ]
  },
  {
   "cell_type": "markdown",
   "metadata": {},
   "source": [
    "## MLP Baseline Score"
   ]
  },
  {
   "cell_type": "code",
   "execution_count": 79,
   "metadata": {},
   "outputs": [
    {
     "name": "stdout",
     "output_type": "stream",
     "text": [
      "[0.23974615 0.2959398  0.07394458 0.30113986 0.45199293 0.23993771\n",
      " 0.34890374 0.30525292 0.25928094 0.31015634]\n",
      "Total F1_WEIGHTED = 0.28262949705887125\n",
      "[0.25371429 0.31314286 0.10971429 0.32685714 0.46971429 0.25942857\n",
      " 0.37257143 0.33485714 0.30171429 0.32571429]\n",
      "Total ACCURACY = 0.3067428571428571\n"
     ]
    }
   ],
   "source": [
    "MLP_Base_F1_10Folds = cross_val_score(mlp, X, y, cv=k_fold,scoring='f1_weighted')\n",
    "print(MLP_Base_F1_10Folds)\n",
    "print('Total F1_WEIGHTED = {}'.format(MLP_Base_F1_10Folds.mean()))\n",
    "MLP_Base_Acc_10Folds = cross_val_score(mlp, X, y, cv=k_fold,scoring='accuracy')\n",
    "print(MLP_Base_Acc_10Folds)\n",
    "print('Total ACCURACY = {}'.format(MLP_Base_Acc_10Folds.mean()))"
   ]
  },
  {
   "cell_type": "markdown",
   "metadata": {},
   "source": [
    "## MLP PCA Score"
   ]
  },
  {
   "cell_type": "code",
   "execution_count": 105,
   "metadata": {},
   "outputs": [],
   "source": [
    "mlp_pca = PCA(n_components = 13,random_state=99, svd_solver='full')\n",
    "mlp_pca.fit(X_scaled)\n",
    "X_mlp_pca = mlp_pca.transform(X_scaled)\n",
    "X_mlp_pca.shape\n",
    "scaler = MinMaxScaler(feature_range=(0,1))\n",
    "X_mlp_pca_scaled=scaler.fit_transform(X_mlp_pca)"
   ]
  },
  {
   "cell_type": "code",
   "execution_count": 106,
   "metadata": {},
   "outputs": [
    {
     "name": "stdout",
     "output_type": "stream",
     "text": [
      "[0.48330173 0.47186793 0.54840095 0.07951193 0.51942531 0.51680119\n",
      " 0.52669386 0.53294407 0.48483573 0.51435439]\n",
      "Total F1_WEIGHTED = 0.4678137069961963\n",
      "[0.50171429 0.488      0.56914286 0.55314286 0.536      0.53828571\n",
      " 0.54057143 0.55657143 0.50285714 0.544     ]\n",
      "Total ACCURACY = 0.5330285714285715\n"
     ]
    }
   ],
   "source": [
    "mlp_pca_F1_10Folds = cross_val_score(mlp, X_mlp_pca_scaled, y, cv=k_fold,scoring='f1_weighted')\n",
    "print(mlp_pca_F1_10Folds)\n",
    "print('Total F1_WEIGHTED = {}'.format(mlp_pca_F1_10Folds.mean()))\n",
    "mlp_pca_Acc_10Folds = cross_val_score(mlp, X_mlp_pca_scaled, y, cv=k_fold,scoring='accuracy')\n",
    "print(mlp_pca_Acc_10Folds)\n",
    "print('Total ACCURACY = {}'.format(mlp_pca_Acc_10Folds.mean()))"
   ]
  },
  {
   "cell_type": "code",
   "execution_count": 134,
   "metadata": {},
   "outputs": [
    {
     "name": "stdout",
     "output_type": "stream",
     "text": [
      "[0.4347118182704554, 0.18105516644234323, 0.0889158857632712, 0.06952978876621817, 0.05487571677859386, 0.042463446761283524, 0.022099836469241643, 0.021078625697644807, 0.01574563838883986, 0.012550556270845729, 0.010836159044963515, 0.009073776752342482, 0.007028426445684297]\n"
     ]
    }
   ],
   "source": [
    "#explained variance calculation\n",
    "mlp_pca_variance = explained_variance(dr_array=X_mlp_pca, dr_arange=13, Total_Variance=X_Total_Variance)\n",
    "print(mlp_pca_variance)"
   ]
  },
  {
   "cell_type": "markdown",
   "metadata": {},
   "source": [
    "## MLP FA Score"
   ]
  },
  {
   "cell_type": "code",
   "execution_count": 107,
   "metadata": {},
   "outputs": [],
   "source": [
    "mlp_fa = FactorAnalysis(n_components=20, rotation='varimax', random_state=99)\n",
    "mlp_fa.fit(X_scaled)\n",
    "X_mlp_fa = mlp_fa.transform(X_scaled)\n",
    "X_mlp_fa.shape\n",
    "scaler = MinMaxScaler(feature_range=(0,1))\n",
    "X_mlp_fa_scaled=scaler.fit_transform(X_mlp_fa)"
   ]
  },
  {
   "cell_type": "code",
   "execution_count": 108,
   "metadata": {},
   "outputs": [
    {
     "name": "stdout",
     "output_type": "stream",
     "text": [
      "[0.39286927 0.38447282 0.47179135 0.34352532 0.46613651 0.39436746\n",
      " 0.40654765 0.4235315  0.4073771  0.43094033]\n",
      "Total F1_WEIGHTED = 0.41215593044626286\n",
      "[0.424      0.40914286 0.49828571 0.35885714 0.49714286 0.408\n",
      " 0.44228571 0.45257143 0.43657143 0.45828571]\n",
      "Total ACCURACY = 0.43851428571428575\n"
     ]
    }
   ],
   "source": [
    "mlp_fa_F1_10Folds = cross_val_score(mlp, X_mlp_fa_scaled, y, cv=k_fold,scoring='f1_weighted')\n",
    "print(mlp_fa_F1_10Folds)\n",
    "print('Total F1_WEIGHTED = {}'.format(mlp_fa_F1_10Folds.mean()))\n",
    "mlp_fa_Acc_10Folds = cross_val_score(mlp, X_mlp_fa_scaled, y, cv=k_fold,scoring='accuracy')\n",
    "print(mlp_fa_Acc_10Folds)\n",
    "print('Total ACCURACY = {}'.format(mlp_fa_Acc_10Folds.mean()))"
   ]
  },
  {
   "cell_type": "code",
   "execution_count": 109,
   "metadata": {},
   "outputs": [
    {
     "name": "stdout",
     "output_type": "stream",
     "text": [
      "[1.3554073007967917, 1.3551600390475484, 1.3552816687054536, 1.3548939386870265, 1.3546407113461771, 1.3534982092091727, 1.3552172926649804, 1.3549415640226192, 1.3550484393494213, 1.354754299953362, 1.3551845177314612, 1.3454890521341185, 1.3440193020342877, 1.3530269012365785, 1.3530680948887033, 1.3525589704371341, 1.354691155709054, 1.3513218744431326, 1.3546517072858058, 1.3535394952697577]\n"
     ]
    }
   ],
   "source": [
    "#explained variance calculation\n",
    "mlp_fa_variance = explained_variance(dr_array=X_mlp_fa, dr_arange=20, Total_Variance=X_Total_Variance)\n",
    "print(mlp_fa_variance)"
   ]
  },
  {
   "cell_type": "markdown",
   "metadata": {},
   "source": [
    "## MLP MDS Score"
   ]
  },
  {
   "cell_type": "code",
   "execution_count": 110,
   "metadata": {},
   "outputs": [],
   "source": [
    "mlp_mds = MDS(n_components=2, random_state=99)\n",
    "X_mlp_mds = mds.fit_transform(X_scaled)\n",
    "print(X_mlp_mds)\n",
    "X_mlp_mds_scaled=scaler.fit_transform(X_mlp_mds)\n",
    "X_mlp_mds_scaled_df = pd.DataFrame(X_mlp_mds_scaled,columns=np.arange(0, 2))\n",
    "X_mlp_mds_scaled_df.head()"
   ]
  },
  {
   "cell_type": "code",
   "execution_count": 111,
   "metadata": {},
   "outputs": [],
   "source": [
    "mlp_mds_F1_10Folds = cross_val_score(mlp, X_mlp_mds_scaled, y, cv=k_fold,scoring='f1_weighted')\n",
    "print(mlp_mds_F1_10Folds)\n",
    "print('Total F1_WEIGHTED = {}'.format(mlp_mds_F1_10Folds.mean()))\n",
    "mlp_mds_Acc_10Folds = cross_val_score(mlp, X_mlp_mds_scaled, y, cv=k_fold,scoring='accuracy')\n",
    "print(mlp_mds_Acc_10Folds)\n",
    "print('Total ACCURACY = {}'.format(mlp_mds_Acc_10Folds.mean()))"
   ]
  },
  {
   "cell_type": "code",
   "execution_count": 112,
   "metadata": {},
   "outputs": [],
   "source": [
    "explained variance calculation\n",
    "mlp_mds_variance = explained_variance(dr_array=X_mlp_mds, dr_arange=2, Total_Variance=X_Total_Variance)\n",
    "print(mlp_mds_variance)"
   ]
  },
  {
   "cell_type": "markdown",
   "metadata": {},
   "source": [
    "# k-Nearest Neighbor [k-NN]"
   ]
  },
  {
   "cell_type": "markdown",
   "metadata": {},
   "source": [
    "## Baseline"
   ]
  },
  {
   "cell_type": "code",
   "execution_count": 70,
   "metadata": {},
   "outputs": [],
   "source": [
    "from sklearn.model_selection import cross_val_score\n",
    "from sklearn.neighbors import KNeighborsClassifier\n",
    "\n",
    "accuracy_rate = []\n",
    "\n",
    "for i in range(1,40):\n",
    "    \n",
    "    knn = KNeighborsClassifier(n_neighbors=i)\n",
    "    score=cross_val_score(knn,X, y,cv=10)\n",
    "    accuracy_rate.append(score.mean())\n"
   ]
  },
  {
   "cell_type": "code",
   "execution_count": 71,
   "metadata": {},
   "outputs": [
    {
     "data": {
      "text/plain": [
       "Text(0, 0.5, 'Accuracy Rate')"
      ]
     },
     "execution_count": 71,
     "metadata": {},
     "output_type": "execute_result"
    },
    {
     "data": {
      "image/png": "[encoded data removed]",
      "text/plain": [
       "<Figure size 720x432 with 1 Axes>"
      ]
     },
     "metadata": {
      "needs_background": "light"
     },
     "output_type": "display_data"
    }
   ],
   "source": [
    "\n",
    "plt.figure(figsize=(10,6))\n",
    "plt.plot(range(1,40),accuracy_rate,color='blue', linestyle='dashed', marker='o',\n",
    "         markerfacecolor='red', markersize=10)\n",
    "plt.title('Accuracy Rate vs. K Value')\n",
    "plt.xlabel('K')\n",
    "plt.ylabel('Accuracy Rate')\n"
   ]
  },
  {
   "cell_type": "code",
   "execution_count": 72,
   "metadata": {},
   "outputs": [],
   "source": [
    "\n",
    "from sklearn.model_selection import cross_val_score\n",
    "from sklearn.neighbors import KNeighborsClassifier\n",
    "classifier = KNeighborsClassifier(n_neighbors=12)\n",
    "X_knn_base = X\n",
    "y_knn_base = y\n",
    "model=classifier.fit(X_knn_base,y_knn_base)\n",
    "y_pred=classifier.predict(X_knn_base)\n"
   ]
  },
  {
   "cell_type": "markdown",
   "metadata": {},
   "source": [
    "\n",
    "\n",
    "Check the error rate at different K values\n"
   ]
  },
  {
   "cell_type": "code",
   "execution_count": 73,
   "metadata": {},
   "outputs": [],
   "source": [
    "\n",
    "error_rate = []\n",
    "from sklearn.model_selection import cross_val_score\n",
    "from sklearn.neighbors import KNeighborsClassifier\n",
    "# Will take some time\n",
    "for i in range(1,50):\n",
    "    knn = KNeighborsClassifier(n_neighbors=i)\n",
    "    knn.fit(X_knn_base,y_knn_base)\n",
    "    pred_i = knn.predict(X_knn_base)\n",
    "    error_rate.append(np.mean(pred_i == y_knn_base))\n"
   ]
  },
  {
   "cell_type": "code",
   "execution_count": 74,
   "metadata": {},
   "outputs": [
    {
     "data": {
      "text/plain": [
       "Text(0, 0.5, 'Error Rate')"
      ]
     },
     "execution_count": 74,
     "metadata": {},
     "output_type": "execute_result"
    },
    {
     "data": {
      "image/png": "[encoded data removed]",
      "text/plain": [
       "<Figure size 1080x576 with 1 Axes>"
      ]
     },
     "metadata": {
      "needs_background": "light"
     },
     "output_type": "display_data"
    }
   ],
   "source": [
    "\n",
    "# Visualize the error rate\n",
    "plt.figure(figsize=(15,8))\n",
    "plt.plot(range(1,50),error_rate,color='blue', linestyle='dashed', marker='o',\n",
    "         markerfacecolor='red', markersize=10)\n",
    "plt.title('Error Rate vs. K Value')\n",
    "plt.xlabel('K')\n",
    "plt.ylabel('Error Rate')\n"
   ]
  },
  {
   "cell_type": "markdown",
   "metadata": {},
   "source": [
    "\n",
    "Identify the lowest error rate and modify the model\n"
   ]
  },
  {
   "cell_type": "code",
   "execution_count": 75,
   "metadata": {},
   "outputs": [
    {
     "name": "stdout",
     "output_type": "stream",
     "text": [
      "Minimum Error Rate: 0.5973714285714286\n",
      "Index position of Minimum Error Rate: 49\n"
     ]
    }
   ],
   "source": [
    "\n",
    "lowest_error_index = error_rate.index(min(error_rate))+1\n",
    "print('Minimum Error Rate: ' + str(min(error_rate)))\n",
    "print('Index position of Minimum Error Rate: ' + str(lowest_error_index))\n"
   ]
  },
  {
   "cell_type": "code",
   "execution_count": 76,
   "metadata": {},
   "outputs": [],
   "source": [
    "\n",
    "# Now with lowest_error_index\n",
    "KNN_Model = KNeighborsClassifier(n_neighbors=lowest_error_index)"
   ]
  },
  {
   "cell_type": "markdown",
   "metadata": {},
   "source": [
    "## KNN Baseline Score"
   ]
  },
  {
   "cell_type": "code",
   "execution_count": 77,
   "metadata": {},
   "outputs": [
    {
     "name": "stdout",
     "output_type": "stream",
     "text": [
      "[0.52224655 0.52772152 0.52164675 0.51564573 0.54304111 0.53624748\n",
      " 0.54825792 0.51245928 0.55309857 0.5512696 ]\n",
      "Total F1_WEIGHTED = 0.5331634514881533\n",
      "[0.52685714 0.52457143 0.52342857 0.51428571 0.544      0.53257143\n",
      " 0.54857143 0.512      0.54971429 0.54857143]\n",
      "Total ACCURACY = 0.5324571428571429\n"
     ]
    }
   ],
   "source": [
    "KNN_Base_F1_10Folds = cross_val_score(KNN_Model, X_scaled, y, cv=k_fold,scoring='f1_weighted')\n",
    "print(KNN_Base_F1_10Folds)\n",
    "print('Total F1_WEIGHTED = {}'.format(KNN_Base_F1_10Folds.mean()))\n",
    "KNN_Base_Acc_10Folds = cross_val_score(KNN_Model, X_scaled, y, cv=k_fold,scoring='accuracy')\n",
    "print(KNN_Base_Acc_10Folds)\n",
    "print('Total ACCURACY = {}'.format(KNN_Base_Acc_10Folds.mean()))"
   ]
  },
  {
   "cell_type": "markdown",
   "metadata": {},
   "source": [
    "## KNN PCA Score"
   ]
  },
  {
   "cell_type": "code",
   "execution_count": 121,
   "metadata": {},
   "outputs": [],
   "source": [
    "KNN_pca = PCA(n_components = 20,random_state=99, svd_solver='full')\n",
    "KNN_pca.fit(X_scaled)\n",
    "X_knn_pca = KNN_pca.transform(X_scaled)\n",
    "X_knn_pca.shape\n",
    "scaler = MinMaxScaler(feature_range=(0,1))\n",
    "X_knn_pca_scaled=scaler.fit_transform(X_knn_pca)"
   ]
  },
  {
   "cell_type": "code",
   "execution_count": 122,
   "metadata": {},
   "outputs": [
    {
     "name": "stdout",
     "output_type": "stream",
     "text": [
      "[0.60406033 0.59433143 0.58465272 0.57782958 0.57624753 0.60259591\n",
      " 0.58620451 0.59596637 0.5769871  0.5933617 ]\n",
      "Total F1_WEIGHTED = 0.5892237184516124\n",
      "[0.60114286 0.6        0.584      0.576      0.57485714 0.60342857\n",
      " 0.59085714 0.592      0.57485714 0.59885714]\n",
      "Total ACCURACY = 0.5896\n"
     ]
    }
   ],
   "source": [
    "KNN_pca_F1_10Folds = cross_val_score(KNN_Model, X_knn_pca_scaled, y, cv=k_fold,scoring='f1_weighted')\n",
    "print(KNN_pca_F1_10Folds)\n",
    "print('Total F1_WEIGHTED = {}'.format(KNN_pca_F1_10Folds.mean()))\n",
    "KNN_pca_Acc_10Folds = cross_val_score(KNN_Model, X_knn_pca_scaled, y, cv=k_fold,scoring='accuracy')\n",
    "print(KNN_pca_Acc_10Folds)\n",
    "print('Total ACCURACY = {}'.format(KNN_pca_Acc_10Folds.mean()))"
   ]
  },
  {
   "cell_type": "code",
   "execution_count": 123,
   "metadata": {},
   "outputs": [
    {
     "name": "stdout",
     "output_type": "stream",
     "text": [
      "[0.4347118182704554, 0.18105516644234323, 0.0889158857632712, 0.06952978876621817, 0.05487571677859386, 0.042463446761283524, 0.022099836469241643, 0.021078625697644807, 0.01574563838883986, 0.012550556270845729, 0.010836159044963515, 0.009073776752342482, 0.007028426445684297, 0.005841210398199547, 0.004438227011107747, 0.003864252457132234, 0.0035524182105427593, 0.0030375494887312695, 0.0026584227801839744, 0.0024658365198685058]\n"
     ]
    }
   ],
   "source": [
    "#explained variance calculation\n",
    "knn_pca_variance = explained_variance(dr_array=X_knn_pca, dr_arange=20, Total_Variance=X_Total_Variance)\n",
    "print(knn_pca_variance)"
   ]
  },
  {
   "cell_type": "markdown",
   "metadata": {},
   "source": [
    "## KNN FA Score"
   ]
  },
  {
   "cell_type": "code",
   "execution_count": 124,
   "metadata": {},
   "outputs": [],
   "source": [
    "KNN_fa = FactorAnalysis(n_components=22, rotation='varimax', random_state=99)\n",
    "KNN_fa.fit(X_scaled)\n",
    "X_knn_fa = KNN_fa.transform(X_scaled)\n",
    "X_knn_fa.shape\n",
    "scaler = MinMaxScaler(feature_range=(0,1))\n",
    "X_knn_fa_scaled=scaler.fit_transform(X_knn_fa)"
   ]
  },
  {
   "cell_type": "code",
   "execution_count": 125,
   "metadata": {},
   "outputs": [
    {
     "name": "stdout",
     "output_type": "stream",
     "text": [
      "[0.63333809 0.6004492  0.5894386  0.59353736 0.59227365 0.61578372\n",
      " 0.62206334 0.62365785 0.62394471 0.61482607]\n",
      "Total F1_WEIGHTED = 0.610931258581248\n",
      "[0.63428571 0.60228571 0.59657143 0.59771429 0.59657143 0.61714286\n",
      " 0.62514286 0.62742857 0.62742857 0.61828571]\n",
      "Total ACCURACY = 0.6142857142857142\n"
     ]
    }
   ],
   "source": [
    "KNN_fa_F1_10Folds = cross_val_score(KNN_Model, X_knn_fa_scaled, y, cv=k_fold,scoring='f1_weighted')\n",
    "print(KNN_fa_F1_10Folds)\n",
    "print('Total F1_WEIGHTED = {}'.format(KNN_fa_F1_10Folds.mean()))\n",
    "KNN_fa_Acc_10Folds = cross_val_score(KNN_Model, X_knn_fa_scaled, y, cv=k_fold,scoring='accuracy')\n",
    "print(KNN_fa_Acc_10Folds)\n",
    "print('Total ACCURACY = {}'.format(KNN_fa_Acc_10Folds.mean()))"
   ]
  },
  {
   "cell_type": "code",
   "execution_count": 126,
   "metadata": {},
   "outputs": [
    {
     "name": "stdout",
     "output_type": "stream",
     "text": [
      "[1.3554129076949915, 1.355222208384444, 1.3551509071150407, 1.3552546203841735, 1.3549934333376652, 1.3496558395844562, 1.3532584124836176, 1.3552285810855937, 1.352424224235638, 1.354484693246379, 1.354662794156829, 1.3551659035693808, 1.3462435496359235, 1.3536875418585557, 1.3426234043735048, 1.354568481452756, 1.3535152899181448, 1.3545754124006115, 1.3526243956600976, 1.354073419751133, 1.3476225303247118, 1.3522733340838773]\n"
     ]
    }
   ],
   "source": [
    "#explained variance calculation\n",
    "knn_fa_variance = explained_variance(dr_array=X_knn_fa, dr_arange=22, Total_Variance=X_Total_Variance)\n",
    "print(knn_fa_variance)"
   ]
  },
  {
   "cell_type": "markdown",
   "metadata": {},
   "source": [
    "## KNN MDS Score"
   ]
  },
  {
   "cell_type": "code",
   "execution_count": 127,
   "metadata": {},
   "outputs": [],
   "source": [
    "KNN_mds = MDS(n_components=2, random_state=99)\n",
    "X_knn_mds = mds.fit_transform(X_scaled)\n",
    "print(X_knn_mds)\n",
    "X_knn_mds_scaled=scaler.fit_transform(X_knn_mds)\n",
    "X_knn_mds_scaled_df = pd.DataFrame(X_knn_mds_scaled,columns=np.arange(0, 2))\n",
    "X_knn_mds_scaled_df.head()"
   ]
  },
  {
   "cell_type": "code",
   "execution_count": 128,
   "metadata": {},
   "outputs": [],
   "source": [
    "KNN_mds_F1_10Folds = cross_val_score(KNN_Model, X_knn_mds_scaled, y, cv=k_fold,scoring='f1_weighted')\n",
    "print(KNN_mds_F1_10Folds)\n",
    "print('Total F1_WEIGHTED = {}'.format(KNN_mds_F1_10Folds.mean()))\n",
    "KNN_mds_Acc_10Folds = cross_val_score(KNN_Model, X_knn_mds_scaled, y, cv=k_fold,scoring='accuracy')\n",
    "print(KNN_mds_Acc_10Folds)\n",
    "print('Total ACCURACY = {}'.format(KNN_mds_Acc_10Folds.mean()))"
   ]
  },
  {
   "cell_type": "code",
   "execution_count": 129,
   "metadata": {},
   "outputs": [],
   "source": [
    "explained variance calculation\n",
    "knn_mds_variance = explained_variance(dr_array=X_knn_mds, dr_arange=2, Total_Variance=X_Total_Variance)\n",
    "print(knn_mds_variance)"
   ]
  },
  {
   "cell_type": "markdown",
   "metadata": {},
   "source": [
    "# Classifier Testing"
   ]
  },
  {
   "cell_type": "code",
   "execution_count": 130,
   "metadata": {},
   "outputs": [],
   "source": [
    "def classifier_test(model, dr_technique, X, y):\n",
    "\n",
    "    result = {}\n",
    "    #X_val = {}\n",
    "\n",
    "    for i in range(2, 6,2):\n",
    "    \n",
    "\n",
    "        if dr_technique == \"FA\":\n",
    "            dr = FactorAnalysis(n_components=i, rotation='varimax', random_state=99)\n",
    "        elif dr_technique == \"PCA\":\n",
    "            dr = PCA(n_components=i, random_state=99, svd_solver='full')\n",
    "        elif dr_technique == 'MDS':\n",
    "            dr = MDS(n_components=i, random_state=99)\n",
    "\n",
    "        X_trans = dr.fit_transform(X)\n",
    "        scaler = MinMaxScaler()\n",
    "        X_scaled = scaler.fit_transform(X_trans)\n",
    "\n",
    "        k_fold = StratifiedKFold(n_splits=10)\n",
    "\n",
    "        acc = cross_val_score(model, X_scaled, y, cv=k_fold, scoring='accuracy')\n",
    "        f1 = cross_val_score(model, X_scaled, y, cv=k_fold, scoring='f1_weighted')\n",
    "\n",
    "        print(f\"For {i} features\")\n",
    "        print(f\"Accuracy: {acc}\")\n",
    "        print(f\"f1-score: {f1}\")\n",
    "        print(f\"Mean Accuracy: {acc.mean()}\")\n",
    "        print(f\"Mean f1-score: {f1.mean()}\")\n",
    "\n",
    "        result[i] = [acc.mean(), f1.mean()]\n",
    "\n",
    "        \n",
    "\n",
    "        #X_val[i] = X_trans\n",
    "\n",
    "    \n",
    "    return result"
   ]
  },
  {
   "cell_type": "code",
   "execution_count": 131,
   "metadata": {},
   "outputs": [
    {
     "name": "stdout",
     "output_type": "stream",
     "text": [
      "For 2 features\n",
      "Accuracy: [0.27085714 0.25371429 0.27085714 0.264      0.25142857 0.264\n",
      " 0.23314286 0.26742857 0.256      0.29028571]\n",
      "f1-score: [0.23046533 0.20938832 0.23948235 0.22630563 0.21511328 0.24249477\n",
      " 0.21101263 0.23433954 0.23224196 0.24688561]\n",
      "Mean Accuracy: 0.2621714285714286\n",
      "Mean f1-score: 0.22877294085487732\n",
      "For 4 features\n",
      "Accuracy: [0.35314286 0.39085714 0.40685714 0.39657143 0.38514286 0.392\n",
      " 0.38971429 0.39542857 0.38171429 0.39771429]\n",
      "f1-score: [0.34588763 0.35844841 0.36826009 0.3536041  0.33542353 0.36003897\n",
      " 0.34976703 0.36326463 0.33975512 0.37133211]\n",
      "Mean Accuracy: 0.38891428571428566\n",
      "Mean f1-score: 0.35457816093270567\n"
     ]
    }
   ],
   "source": [
    "RF_PCA_TEST= classifier_test(model=RF_Model, dr_technique='PCA', X=X_scaled, y=y)"
   ]
  },
  {
   "cell_type": "code",
   "execution_count": 132,
   "metadata": {},
   "outputs": [
    {
     "name": "stdout",
     "output_type": "stream",
     "text": [
      "For 2 features\n",
      "Accuracy: [0.34514286 0.38171429 0.33828571 0.35657143 0.34171429 0.36342857\n",
      " 0.34971429 0.36342857 0.35885714 0.37257143]\n",
      "f1-score: [0.30662877 0.33746969 0.30401492 0.30332383 0.29824853 0.31857225\n",
      " 0.30900138 0.32860308 0.32205616 0.33212577]\n",
      "Mean Accuracy: 0.3571428571428571\n",
      "Mean f1-score: 0.31600443764083724\n",
      "For 4 features\n",
      "Accuracy: [0.45714286 0.46171429 0.44114286 0.448      0.46742857 0.45714286\n",
      " 0.456      0.47314286 0.46628571 0.44571429]\n",
      "f1-score: [0.43337466 0.42741008 0.43420133 0.42780468 0.43701452 0.43578714\n",
      " 0.43079364 0.45341613 0.44931902 0.43037778]\n",
      "Mean Accuracy: 0.4573714285714286\n",
      "Mean f1-score: 0.435949898639669\n"
     ]
    }
   ],
   "source": [
    "RF_FA_TEST= classifier_test(model=RF_Model, dr_technique='FA', X=X_scaled, y=y)"
   ]
  },
  {
   "cell_type": "code",
   "execution_count": 133,
   "metadata": {},
   "outputs": [
    {
     "ename": "KeyboardInterrupt",
     "evalue": "",
     "output_type": "error",
     "traceback": [
      "\u001b[1;31m---------------------------------------------------------------------------\u001b[0m",
      "\u001b[1;31mKeyboardInterrupt\u001b[0m                         Traceback (most recent call last)",
      "\u001b[1;32m<ipython-input-133-cc7c21f88656>\u001b[0m in \u001b[0;36m<module>\u001b[1;34m\u001b[0m\n\u001b[1;32m----> 1\u001b[1;33m \u001b[0mRF_MDS_TEST\u001b[0m\u001b[1;33m=\u001b[0m \u001b[0mclassifier_test\u001b[0m\u001b[1;33m(\u001b[0m\u001b[0mmodel\u001b[0m\u001b[1;33m=\u001b[0m\u001b[0mRF_Model\u001b[0m\u001b[1;33m,\u001b[0m \u001b[0mdr_technique\u001b[0m\u001b[1;33m=\u001b[0m\u001b[1;34m'MDS'\u001b[0m\u001b[1;33m,\u001b[0m \u001b[0mX\u001b[0m\u001b[1;33m=\u001b[0m\u001b[0mX_scaled\u001b[0m\u001b[1;33m,\u001b[0m \u001b[0my\u001b[0m\u001b[1;33m=\u001b[0m\u001b[0my\u001b[0m\u001b[1;33m)\u001b[0m\u001b[1;33m\u001b[0m\u001b[1;33m\u001b[0m\u001b[0m\n\u001b[0m",
      "\u001b[1;32m<ipython-input-130-af576f55a92e>\u001b[0m in \u001b[0;36mclassifier_test\u001b[1;34m(model, dr_technique, X, y)\u001b[0m\n\u001b[0;32m     14\u001b[0m             \u001b[0mdr\u001b[0m \u001b[1;33m=\u001b[0m \u001b[0mMDS\u001b[0m\u001b[1;33m(\u001b[0m\u001b[0mn_components\u001b[0m\u001b[1;33m=\u001b[0m\u001b[0mi\u001b[0m\u001b[1;33m,\u001b[0m \u001b[0mrandom_state\u001b[0m\u001b[1;33m=\u001b[0m\u001b[1;36m99\u001b[0m\u001b[1;33m)\u001b[0m\u001b[1;33m\u001b[0m\u001b[1;33m\u001b[0m\u001b[0m\n\u001b[0;32m     15\u001b[0m \u001b[1;33m\u001b[0m\u001b[0m\n\u001b[1;32m---> 16\u001b[1;33m         \u001b[0mX_trans\u001b[0m \u001b[1;33m=\u001b[0m \u001b[0mdr\u001b[0m\u001b[1;33m.\u001b[0m\u001b[0mfit_transform\u001b[0m\u001b[1;33m(\u001b[0m\u001b[0mX\u001b[0m\u001b[1;33m)\u001b[0m\u001b[1;33m\u001b[0m\u001b[1;33m\u001b[0m\u001b[0m\n\u001b[0m\u001b[0;32m     17\u001b[0m         \u001b[0mscaler\u001b[0m \u001b[1;33m=\u001b[0m \u001b[0mMinMaxScaler\u001b[0m\u001b[1;33m(\u001b[0m\u001b[1;33m)\u001b[0m\u001b[1;33m\u001b[0m\u001b[1;33m\u001b[0m\u001b[0m\n\u001b[0;32m     18\u001b[0m         \u001b[0mX_scaled\u001b[0m \u001b[1;33m=\u001b[0m \u001b[0mscaler\u001b[0m\u001b[1;33m.\u001b[0m\u001b[0mfit_transform\u001b[0m\u001b[1;33m(\u001b[0m\u001b[0mX_trans\u001b[0m\u001b[1;33m)\u001b[0m\u001b[1;33m\u001b[0m\u001b[1;33m\u001b[0m\u001b[0m\n",
      "\u001b[1;32m~\\anaconda3\\lib\\site-packages\\sklearn\\manifold\\_mds.py\u001b[0m in \u001b[0;36mfit_transform\u001b[1;34m(self, X, y, init)\u001b[0m\n\u001b[0;32m    452\u001b[0m                              \" Got %s instead\" % str(self.dissimilarity))\n\u001b[0;32m    453\u001b[0m \u001b[1;33m\u001b[0m\u001b[0m\n\u001b[1;32m--> 454\u001b[1;33m         self.embedding_, self.stress_, self.n_iter_ = smacof(\n\u001b[0m\u001b[0;32m    455\u001b[0m             \u001b[0mself\u001b[0m\u001b[1;33m.\u001b[0m\u001b[0mdissimilarity_matrix_\u001b[0m\u001b[1;33m,\u001b[0m \u001b[0mmetric\u001b[0m\u001b[1;33m=\u001b[0m\u001b[0mself\u001b[0m\u001b[1;33m.\u001b[0m\u001b[0mmetric\u001b[0m\u001b[1;33m,\u001b[0m\u001b[1;33m\u001b[0m\u001b[1;33m\u001b[0m\u001b[0m\n\u001b[0;32m    456\u001b[0m             \u001b[0mn_components\u001b[0m\u001b[1;33m=\u001b[0m\u001b[0mself\u001b[0m\u001b[1;33m.\u001b[0m\u001b[0mn_components\u001b[0m\u001b[1;33m,\u001b[0m \u001b[0minit\u001b[0m\u001b[1;33m=\u001b[0m\u001b[0minit\u001b[0m\u001b[1;33m,\u001b[0m \u001b[0mn_init\u001b[0m\u001b[1;33m=\u001b[0m\u001b[0mself\u001b[0m\u001b[1;33m.\u001b[0m\u001b[0mn_init\u001b[0m\u001b[1;33m,\u001b[0m\u001b[1;33m\u001b[0m\u001b[1;33m\u001b[0m\u001b[0m\n",
      "\u001b[1;32m~\\anaconda3\\lib\\site-packages\\sklearn\\utils\\validation.py\u001b[0m in \u001b[0;36minner_f\u001b[1;34m(*args, **kwargs)\u001b[0m\n\u001b[0;32m     61\u001b[0m             \u001b[0mextra_args\u001b[0m \u001b[1;33m=\u001b[0m \u001b[0mlen\u001b[0m\u001b[1;33m(\u001b[0m\u001b[0margs\u001b[0m\u001b[1;33m)\u001b[0m \u001b[1;33m-\u001b[0m \u001b[0mlen\u001b[0m\u001b[1;33m(\u001b[0m\u001b[0mall_args\u001b[0m\u001b[1;33m)\u001b[0m\u001b[1;33m\u001b[0m\u001b[1;33m\u001b[0m\u001b[0m\n\u001b[0;32m     62\u001b[0m             \u001b[1;32mif\u001b[0m \u001b[0mextra_args\u001b[0m \u001b[1;33m<=\u001b[0m \u001b[1;36m0\u001b[0m\u001b[1;33m:\u001b[0m\u001b[1;33m\u001b[0m\u001b[1;33m\u001b[0m\u001b[0m\n\u001b[1;32m---> 63\u001b[1;33m                 \u001b[1;32mreturn\u001b[0m \u001b[0mf\u001b[0m\u001b[1;33m(\u001b[0m\u001b[1;33m*\u001b[0m\u001b[0margs\u001b[0m\u001b[1;33m,\u001b[0m \u001b[1;33m**\u001b[0m\u001b[0mkwargs\u001b[0m\u001b[1;33m)\u001b[0m\u001b[1;33m\u001b[0m\u001b[1;33m\u001b[0m\u001b[0m\n\u001b[0m\u001b[0;32m     64\u001b[0m \u001b[1;33m\u001b[0m\u001b[0m\n\u001b[0;32m     65\u001b[0m             \u001b[1;31m# extra_args > 0\u001b[0m\u001b[1;33m\u001b[0m\u001b[1;33m\u001b[0m\u001b[1;33m\u001b[0m\u001b[0m\n",
      "\u001b[1;32m~\\anaconda3\\lib\\site-packages\\sklearn\\manifold\\_mds.py\u001b[0m in \u001b[0;36msmacof\u001b[1;34m(dissimilarities, metric, n_components, init, n_init, n_jobs, max_iter, verbose, eps, random_state, return_n_iter)\u001b[0m\n\u001b[0;32m    248\u001b[0m     \u001b[1;32mif\u001b[0m \u001b[0meffective_n_jobs\u001b[0m\u001b[1;33m(\u001b[0m\u001b[0mn_jobs\u001b[0m\u001b[1;33m)\u001b[0m \u001b[1;33m==\u001b[0m \u001b[1;36m1\u001b[0m\u001b[1;33m:\u001b[0m\u001b[1;33m\u001b[0m\u001b[1;33m\u001b[0m\u001b[0m\n\u001b[0;32m    249\u001b[0m         \u001b[1;32mfor\u001b[0m \u001b[0mit\u001b[0m \u001b[1;32min\u001b[0m \u001b[0mrange\u001b[0m\u001b[1;33m(\u001b[0m\u001b[0mn_init\u001b[0m\u001b[1;33m)\u001b[0m\u001b[1;33m:\u001b[0m\u001b[1;33m\u001b[0m\u001b[1;33m\u001b[0m\u001b[0m\n\u001b[1;32m--> 250\u001b[1;33m             pos, stress, n_iter_ = _smacof_single(\n\u001b[0m\u001b[0;32m    251\u001b[0m                 \u001b[0mdissimilarities\u001b[0m\u001b[1;33m,\u001b[0m \u001b[0mmetric\u001b[0m\u001b[1;33m=\u001b[0m\u001b[0mmetric\u001b[0m\u001b[1;33m,\u001b[0m\u001b[1;33m\u001b[0m\u001b[1;33m\u001b[0m\u001b[0m\n\u001b[0;32m    252\u001b[0m                 \u001b[0mn_components\u001b[0m\u001b[1;33m=\u001b[0m\u001b[0mn_components\u001b[0m\u001b[1;33m,\u001b[0m \u001b[0minit\u001b[0m\u001b[1;33m=\u001b[0m\u001b[0minit\u001b[0m\u001b[1;33m,\u001b[0m\u001b[1;33m\u001b[0m\u001b[1;33m\u001b[0m\u001b[0m\n",
      "\u001b[1;32m~\\anaconda3\\lib\\site-packages\\sklearn\\manifold\\_mds.py\u001b[0m in \u001b[0;36m_smacof_single\u001b[1;34m(dissimilarities, metric, n_components, init, max_iter, verbose, eps, random_state)\u001b[0m\n\u001b[0;32m     92\u001b[0m     \u001b[1;32mfor\u001b[0m \u001b[0mit\u001b[0m \u001b[1;32min\u001b[0m \u001b[0mrange\u001b[0m\u001b[1;33m(\u001b[0m\u001b[0mmax_iter\u001b[0m\u001b[1;33m)\u001b[0m\u001b[1;33m:\u001b[0m\u001b[1;33m\u001b[0m\u001b[1;33m\u001b[0m\u001b[0m\n\u001b[0;32m     93\u001b[0m         \u001b[1;31m# Compute distance and monotonic regression\u001b[0m\u001b[1;33m\u001b[0m\u001b[1;33m\u001b[0m\u001b[1;33m\u001b[0m\u001b[0m\n\u001b[1;32m---> 94\u001b[1;33m         \u001b[0mdis\u001b[0m \u001b[1;33m=\u001b[0m \u001b[0meuclidean_distances\u001b[0m\u001b[1;33m(\u001b[0m\u001b[0mX\u001b[0m\u001b[1;33m)\u001b[0m\u001b[1;33m\u001b[0m\u001b[1;33m\u001b[0m\u001b[0m\n\u001b[0m\u001b[0;32m     95\u001b[0m \u001b[1;33m\u001b[0m\u001b[0m\n\u001b[0;32m     96\u001b[0m         \u001b[1;32mif\u001b[0m \u001b[0mmetric\u001b[0m\u001b[1;33m:\u001b[0m\u001b[1;33m\u001b[0m\u001b[1;33m\u001b[0m\u001b[0m\n",
      "\u001b[1;32m~\\anaconda3\\lib\\site-packages\\sklearn\\utils\\validation.py\u001b[0m in \u001b[0;36minner_f\u001b[1;34m(*args, **kwargs)\u001b[0m\n\u001b[0;32m     61\u001b[0m             \u001b[0mextra_args\u001b[0m \u001b[1;33m=\u001b[0m \u001b[0mlen\u001b[0m\u001b[1;33m(\u001b[0m\u001b[0margs\u001b[0m\u001b[1;33m)\u001b[0m \u001b[1;33m-\u001b[0m \u001b[0mlen\u001b[0m\u001b[1;33m(\u001b[0m\u001b[0mall_args\u001b[0m\u001b[1;33m)\u001b[0m\u001b[1;33m\u001b[0m\u001b[1;33m\u001b[0m\u001b[0m\n\u001b[0;32m     62\u001b[0m             \u001b[1;32mif\u001b[0m \u001b[0mextra_args\u001b[0m \u001b[1;33m<=\u001b[0m \u001b[1;36m0\u001b[0m\u001b[1;33m:\u001b[0m\u001b[1;33m\u001b[0m\u001b[1;33m\u001b[0m\u001b[0m\n\u001b[1;32m---> 63\u001b[1;33m                 \u001b[1;32mreturn\u001b[0m \u001b[0mf\u001b[0m\u001b[1;33m(\u001b[0m\u001b[1;33m*\u001b[0m\u001b[0margs\u001b[0m\u001b[1;33m,\u001b[0m \u001b[1;33m**\u001b[0m\u001b[0mkwargs\u001b[0m\u001b[1;33m)\u001b[0m\u001b[1;33m\u001b[0m\u001b[1;33m\u001b[0m\u001b[0m\n\u001b[0m\u001b[0;32m     64\u001b[0m \u001b[1;33m\u001b[0m\u001b[0m\n\u001b[0;32m     65\u001b[0m             \u001b[1;31m# extra_args > 0\u001b[0m\u001b[1;33m\u001b[0m\u001b[1;33m\u001b[0m\u001b[1;33m\u001b[0m\u001b[0m\n",
      "\u001b[1;32m~\\anaconda3\\lib\\site-packages\\sklearn\\metrics\\pairwise.py\u001b[0m in \u001b[0;36meuclidean_distances\u001b[1;34m(X, Y, Y_norm_squared, squared, X_norm_squared)\u001b[0m\n\u001b[0;32m    311\u001b[0m     \u001b[1;32melse\u001b[0m\u001b[1;33m:\u001b[0m\u001b[1;33m\u001b[0m\u001b[1;33m\u001b[0m\u001b[0m\n\u001b[0;32m    312\u001b[0m         \u001b[1;31m# if dtype is already float64, no need to chunk and upcast\u001b[0m\u001b[1;33m\u001b[0m\u001b[1;33m\u001b[0m\u001b[1;33m\u001b[0m\u001b[0m\n\u001b[1;32m--> 313\u001b[1;33m         \u001b[0mdistances\u001b[0m \u001b[1;33m=\u001b[0m \u001b[1;33m-\u001b[0m \u001b[1;36m2\u001b[0m \u001b[1;33m*\u001b[0m \u001b[0msafe_sparse_dot\u001b[0m\u001b[1;33m(\u001b[0m\u001b[0mX\u001b[0m\u001b[1;33m,\u001b[0m \u001b[0mY\u001b[0m\u001b[1;33m.\u001b[0m\u001b[0mT\u001b[0m\u001b[1;33m,\u001b[0m \u001b[0mdense_output\u001b[0m\u001b[1;33m=\u001b[0m\u001b[1;32mTrue\u001b[0m\u001b[1;33m)\u001b[0m\u001b[1;33m\u001b[0m\u001b[1;33m\u001b[0m\u001b[0m\n\u001b[0m\u001b[0;32m    314\u001b[0m         \u001b[0mdistances\u001b[0m \u001b[1;33m+=\u001b[0m \u001b[0mXX\u001b[0m\u001b[1;33m\u001b[0m\u001b[1;33m\u001b[0m\u001b[0m\n\u001b[0;32m    315\u001b[0m         \u001b[0mdistances\u001b[0m \u001b[1;33m+=\u001b[0m \u001b[0mYY\u001b[0m\u001b[1;33m\u001b[0m\u001b[1;33m\u001b[0m\u001b[0m\n",
      "\u001b[1;32m~\\anaconda3\\lib\\site-packages\\sklearn\\utils\\validation.py\u001b[0m in \u001b[0;36minner_f\u001b[1;34m(*args, **kwargs)\u001b[0m\n\u001b[0;32m     61\u001b[0m             \u001b[0mextra_args\u001b[0m \u001b[1;33m=\u001b[0m \u001b[0mlen\u001b[0m\u001b[1;33m(\u001b[0m\u001b[0margs\u001b[0m\u001b[1;33m)\u001b[0m \u001b[1;33m-\u001b[0m \u001b[0mlen\u001b[0m\u001b[1;33m(\u001b[0m\u001b[0mall_args\u001b[0m\u001b[1;33m)\u001b[0m\u001b[1;33m\u001b[0m\u001b[1;33m\u001b[0m\u001b[0m\n\u001b[0;32m     62\u001b[0m             \u001b[1;32mif\u001b[0m \u001b[0mextra_args\u001b[0m \u001b[1;33m<=\u001b[0m \u001b[1;36m0\u001b[0m\u001b[1;33m:\u001b[0m\u001b[1;33m\u001b[0m\u001b[1;33m\u001b[0m\u001b[0m\n\u001b[1;32m---> 63\u001b[1;33m                 \u001b[1;32mreturn\u001b[0m \u001b[0mf\u001b[0m\u001b[1;33m(\u001b[0m\u001b[1;33m*\u001b[0m\u001b[0margs\u001b[0m\u001b[1;33m,\u001b[0m \u001b[1;33m**\u001b[0m\u001b[0mkwargs\u001b[0m\u001b[1;33m)\u001b[0m\u001b[1;33m\u001b[0m\u001b[1;33m\u001b[0m\u001b[0m\n\u001b[0m\u001b[0;32m     64\u001b[0m \u001b[1;33m\u001b[0m\u001b[0m\n\u001b[0;32m     65\u001b[0m             \u001b[1;31m# extra_args > 0\u001b[0m\u001b[1;33m\u001b[0m\u001b[1;33m\u001b[0m\u001b[1;33m\u001b[0m\u001b[0m\n",
      "\u001b[1;32m~\\anaconda3\\lib\\site-packages\\sklearn\\utils\\extmath.py\u001b[0m in \u001b[0;36msafe_sparse_dot\u001b[1;34m(a, b, dense_output)\u001b[0m\n\u001b[0;32m    150\u001b[0m             \u001b[0mret\u001b[0m \u001b[1;33m=\u001b[0m \u001b[0mnp\u001b[0m\u001b[1;33m.\u001b[0m\u001b[0mdot\u001b[0m\u001b[1;33m(\u001b[0m\u001b[0ma\u001b[0m\u001b[1;33m,\u001b[0m \u001b[0mb\u001b[0m\u001b[1;33m)\u001b[0m\u001b[1;33m\u001b[0m\u001b[1;33m\u001b[0m\u001b[0m\n\u001b[0;32m    151\u001b[0m     \u001b[1;32melse\u001b[0m\u001b[1;33m:\u001b[0m\u001b[1;33m\u001b[0m\u001b[1;33m\u001b[0m\u001b[0m\n\u001b[1;32m--> 152\u001b[1;33m         \u001b[0mret\u001b[0m \u001b[1;33m=\u001b[0m \u001b[0ma\u001b[0m \u001b[1;33m@\u001b[0m \u001b[0mb\u001b[0m\u001b[1;33m\u001b[0m\u001b[1;33m\u001b[0m\u001b[0m\n\u001b[0m\u001b[0;32m    153\u001b[0m \u001b[1;33m\u001b[0m\u001b[0m\n\u001b[0;32m    154\u001b[0m     if (sparse.issparse(a) and sparse.issparse(b)\n",
      "\u001b[1;31mKeyboardInterrupt\u001b[0m: "
     ]
    }
   ],
   "source": [
    "RF_MDS_TEST= classifier_test(model=RF_Model, dr_technique='MDS', X=X_scaled, y=y)"
   ]
  },
  {
   "cell_type": "code",
   "execution_count": null,
   "metadata": {},
   "outputs": [
    {
     "name": "stdout",
     "output_type": "stream",
     "text": [
      "For 2 features\n",
      "Accuracy: [0.288      0.26628571 0.30514286 0.28114286 0.26285714 0.28\n",
      " 0.24228571 0.29142857 0.25828571 0.27314286]\n",
      "f1-score: [0.26022944 0.2365937  0.26664431 0.24602253 0.23113362 0.25191671\n",
      " 0.21460085 0.26262381 0.2299172  0.23137086]\n",
      "Mean Accuracy: 0.27485714285714286\n",
      "Mean f1-score: 0.24310530291869906\n",
      "For 4 features\n",
      "Accuracy: [0.45371429 0.46057143 0.45942857 0.48914286 0.45028571 0.41942857\n",
      " 0.41257143 0.42742857 0.43314286 0.448     ]\n",
      "f1-score: [0.43031713 0.43689922 0.43581437 0.46670175 0.43667329 0.40249506\n",
      " 0.39566397 0.41313774 0.41589868 0.42932448]\n",
      "Mean Accuracy: 0.44537142857142864\n",
      "Mean f1-score: 0.4262925682189021\n",
      "For 6 features\n",
      "Accuracy: [0.47314286 0.456      0.536      0.49028571 0.48228571 0.44342857\n",
      " 0.47542857 0.51771429 0.55085714 0.50742857]\n",
      "f1-score: [0.44479918 0.43392338 0.50690546 0.48340452 0.46329709 0.41436146\n",
      " 0.45383996 0.50242648 0.53868337 0.48767991]\n",
      "Mean Accuracy: 0.49325714285714284\n",
      "Mean f1-score: 0.472932082893728\n",
      "For 8 features\n",
      "Accuracy: [0.46742857 0.40685714 0.42171429 0.43428571 0.472      0.41371429\n",
      " 0.38742857 0.46171429 0.47428571 0.45142857]\n",
      "f1-score: [0.44166765 0.38211386 0.39300675 0.40079618 0.44363837 0.37966693\n",
      " 0.36290159 0.43580978 0.44601113 0.42550304]\n",
      "Mean Accuracy: 0.43908571428571425\n",
      "Mean f1-score: 0.4111115271422842\n",
      "For 10 features\n",
      "Accuracy: [0.47885714 0.52914286 0.55542857 0.45485714 0.50057143 0.51657143\n",
      " 0.528      0.53828571 0.50514286 0.47085714]\n",
      "f1-score: [0.45096447 0.5037577  0.53708519 0.43671511 0.48543612 0.49029947\n",
      " 0.5116039  0.51739125 0.48490487 0.45214866]\n",
      "Mean Accuracy: 0.5077714285714285\n",
      "Mean f1-score: 0.48703067368043573\n",
      "For 12 features\n",
      "Accuracy: [0.54742857 0.50742857 0.48685714 0.53371429 0.49142857 0.52342857\n",
      " 0.49828571 0.54285714 0.47085714 0.504     ]\n",
      "f1-score: [0.5251282  0.47192733 0.46416328 0.49839242 0.46907104 0.49831391\n",
      " 0.47566035 0.50761325 0.42749446 0.48066426]\n",
      "Mean Accuracy: 0.5106285714285714\n",
      "Mean f1-score: 0.4818428513415361\n",
      "For 14 features\n",
      "Accuracy: [0.40114286 0.48228571 0.47428571 0.52685714 0.41028571 0.53371429\n",
      " 0.44914286 0.50514286 0.49371429 0.52342857]\n",
      "f1-score: [0.37999875 0.4516471  0.44546931 0.50363121 0.38565706 0.51386798\n",
      " 0.42776972 0.4772006  0.47371159 0.49099993]\n",
      "Mean Accuracy: 0.48\n",
      "Mean f1-score: 0.45499532565198314\n"
     ]
    }
   ],
   "source": [
    "MLP_PCA_TEST= classifier_test(model=mlp, dr_technique='PCA', X=X_scaled, y=y)"
   ]
  },
  {
   "cell_type": "code",
   "execution_count": null,
   "metadata": {},
   "outputs": [
    {
     "name": "stdout",
     "output_type": "stream",
     "text": [
      "For 2 features\n",
      "Accuracy: [0.16228571 0.232      0.20457143 0.16914286 0.18628571 0.2\n",
      " 0.19542857 0.192      0.19542857 0.18285714]\n",
      "f1-score: [0.11828288 0.18097417 0.1633175  0.12169965 0.13694795 0.14000732\n",
      " 0.1473343  0.148152   0.13923171 0.13706151]\n",
      "Mean Accuracy: 0.192\n",
      "Mean f1-score: 0.1433008985719711\n",
      "For 6 features\n",
      "Accuracy: [0.4        0.35542857 0.34857143 0.40685714 0.36114286 0.38742857\n",
      " 0.34628571 0.36228571 0.392      0.392     ]\n",
      "f1-score: [0.3798107  0.33410231 0.32493758 0.3878779  0.34042573 0.3644094\n",
      " 0.33534464 0.33616958 0.3670877  0.36349433]\n",
      "Mean Accuracy: 0.3752\n",
      "Mean f1-score: 0.3533659876561411\n",
      "For 10 features\n",
      "Accuracy: [0.40914286 0.43657143 0.45257143 0.44228571 0.46171429 0.46057143\n",
      " 0.48342857 0.45942857 0.48457143 0.49942857]\n",
      "f1-score: [0.3812137  0.40003809 0.42439619 0.41927348 0.43522497 0.43964825\n",
      " 0.4524278  0.43190051 0.4595088  0.46096837]\n",
      "Mean Accuracy: 0.4589714285714286\n",
      "Mean f1-score: 0.4304600146668198\n",
      "For 14 features\n",
      "Accuracy: [0.41828571 0.49257143 0.47657143 0.472      0.45142857 0.49942857\n",
      " 0.44685714 0.38857143 0.51314286 0.53485714]\n",
      "f1-score: [0.38799016 0.47388574 0.44259947 0.4527371  0.4210249  0.47514501\n",
      " 0.42584261 0.3626539  0.491766   0.506745  ]\n",
      "Mean Accuracy: 0.4693714285714286\n",
      "Mean f1-score: 0.4440389890230544\n",
      "For 18 features\n",
      "Accuracy: [0.47771429 0.45485714 0.54514286 0.49371429 0.46171429 0.49942857\n",
      " 0.48571429 0.49828571 0.50857143 0.424     ]\n",
      "f1-score: [0.43982383 0.43268318 0.51724821 0.47153398 0.43897817 0.47058847\n",
      " 0.45715774 0.46735488 0.48734201 0.39878738]\n",
      "Mean Accuracy: 0.48491428571428574\n",
      "Mean f1-score: 0.4581497853844656\n",
      "For 22 features\n",
      "Accuracy: [0.464      0.41942857 0.40571429 0.35085714 0.43085714 0.46171429\n",
      " 0.39657143 0.42171429 0.36       0.36914286]\n",
      "f1-score: [0.41692275 0.3948897  0.38809808 0.32433751 0.39695134 0.44001038\n",
      " 0.38710645 0.40000622 0.3330055  0.34052663]\n",
      "Mean Accuracy: 0.40800000000000003\n",
      "Mean f1-score: 0.3821854574147221\n",
      "For 26 features\n",
      "Accuracy: [0.49828571 0.472      0.41942857 0.47542857 0.55085714 0.53142857\n",
      " 0.48228571 0.52457143 0.50057143 0.49485714]\n",
      "f1-score: [0.47138809 0.45004642 0.38630125 0.445652   0.518367   0.50261361\n",
      " 0.46345599 0.49446113 0.46724225 0.43738601]\n",
      "Mean Accuracy: 0.4949714285714285\n",
      "Mean f1-score: 0.46369137528328574\n",
      "For 30 features\n",
      "Accuracy: [0.33485714 0.46857143 0.48       0.47657143 0.488      0.42514286\n",
      " 0.44228571 0.50971429 0.40114286 0.41828571]\n",
      "f1-score: [0.38922675 0.43581204 0.44345044 0.44597949 0.46704643 0.40694604\n",
      " 0.42200222 0.48755915 0.37338978 0.40175575]\n",
      "Mean Accuracy: 0.4444571428571429\n",
      "Mean f1-score: 0.42731681008587846\n",
      "For 34 features\n",
      "Accuracy: [0.51542857 0.52685714 0.49485714 0.50171429 0.41142857 0.464\n",
      " 0.424      0.46628571 0.45028571 0.46742857]\n",
      "f1-score: [0.4855859  0.49504816 0.47032628 0.47828802 0.39016618 0.44059371\n",
      " 0.39820578 0.44488405 0.43101381 0.43959291]\n",
      "Mean Accuracy: 0.47222857142857133\n",
      "Mean f1-score: 0.4473704788670408\n",
      "For 38 features\n",
      "Accuracy: [0.52685714 0.536      0.50742857 0.51771429 0.51428571 0.41714286\n",
      " 0.54057143 0.53714286 0.44914286 0.47085714]\n",
      "f1-score: [0.50690244 0.50614996 0.49215249 0.50904049 0.5022428  0.39210069\n",
      " 0.52488711 0.51172499 0.43974878 0.43758091]\n",
      "Mean Accuracy: 0.5017142857142858\n",
      "Mean f1-score: 0.4822530657825677\n"
     ]
    }
   ],
   "source": [
    "MLP_FA_TEST= classifier_test(model=mlp, dr_technique='FA', X=X_scaled, y=y)"
   ]
  },
  {
   "cell_type": "code",
   "execution_count": null,
   "metadata": {},
   "outputs": [
    {
     "name": "stdout",
     "output_type": "stream",
     "text": [
      "For 2 features\n",
      "Accuracy: [0.184      0.20914286 0.24228571 0.232      0.21714286 0.19657143\n",
      " 0.22171429 0.232      0.22742857 0.272     ]\n",
      "f1-score: [0.14094778 0.17341988 0.19832165 0.19603008 0.16846062 0.14735522\n",
      " 0.1881022  0.18148382 0.18881478 0.23948995]\n",
      "Mean Accuracy: 0.2234285714285714\n",
      "Mean f1-score: 0.1822425976902662\n",
      "For 6 features\n",
      "Accuracy: [0.08342857 0.07542857 0.07885714 0.07885714 0.10285714 0.05828571\n",
      " 0.08228571 0.088      0.08342857 0.07542857]\n",
      "f1-score: [0.04200013 0.0328201  0.04090665 0.04020284 0.05506192 0.02783568\n",
      " 0.04633072 0.04715781 0.04791997 0.03716159]\n",
      "Mean Accuracy: 0.08068571428571428\n",
      "Mean f1-score: 0.041739742518500295\n",
      "For 10 features\n",
      "Accuracy: [0.056      0.07657143 0.10514286 0.08114286 0.06971429 0.05714286\n",
      " 0.08       0.08       0.05028571 0.07314286]\n",
      "f1-score: [0.02371426 0.03762182 0.05288141 0.04267074 0.03471197 0.02449605\n",
      " 0.04193593 0.03861869 0.01936651 0.03332869]\n",
      "Mean Accuracy: 0.07291428571428571\n",
      "Mean f1-score: 0.03493460729635377\n",
      "For 14 features\n",
      "Accuracy: [0.37942857 0.38285714 0.37371429 0.33828571 0.33371429 0.32571429\n",
      " 0.39542857 0.36114286 0.38971429 0.40342857]\n",
      "f1-score: [0.35550407 0.36509851 0.35357999 0.31752243 0.30199961 0.31477526\n",
      " 0.37830442 0.33268222 0.36418896 0.37858043]\n",
      "Mean Accuracy: 0.36834285714285714\n",
      "Mean f1-score: 0.346223589729708\n"
     ]
    },
    {
     "ename": "KeyboardInterrupt",
     "evalue": "",
     "output_type": "error",
     "traceback": [
      "\u001b[1;31m---------------------------------------------------------------------------\u001b[0m",
      "\u001b[1;31mKeyboardInterrupt\u001b[0m                         Traceback (most recent call last)",
      "\u001b[1;32m<ipython-input-79-090ab0d1b224>\u001b[0m in \u001b[0;36m<module>\u001b[1;34m\u001b[0m\n\u001b[1;32m----> 1\u001b[1;33m \u001b[0mMLP_MDS_TEST\u001b[0m\u001b[1;33m=\u001b[0m \u001b[0mclassifier_test\u001b[0m\u001b[1;33m(\u001b[0m\u001b[0mmodel\u001b[0m\u001b[1;33m=\u001b[0m\u001b[0mmlp\u001b[0m\u001b[1;33m,\u001b[0m \u001b[0mdr_technique\u001b[0m\u001b[1;33m=\u001b[0m\u001b[1;34m'MDS'\u001b[0m\u001b[1;33m,\u001b[0m \u001b[0mX\u001b[0m\u001b[1;33m=\u001b[0m\u001b[0mX_scaled\u001b[0m\u001b[1;33m,\u001b[0m \u001b[0my\u001b[0m\u001b[1;33m=\u001b[0m\u001b[0my\u001b[0m\u001b[1;33m)\u001b[0m\u001b[1;33m\u001b[0m\u001b[1;33m\u001b[0m\u001b[0m\n\u001b[0m",
      "\u001b[1;32m<ipython-input-77-ff5ea8ffe7fc>\u001b[0m in \u001b[0;36mclassifier_test\u001b[1;34m(model, dr_technique, X, y)\u001b[0m\n\u001b[0;32m     14\u001b[0m             \u001b[0mdr\u001b[0m \u001b[1;33m=\u001b[0m \u001b[0mMDS\u001b[0m\u001b[1;33m(\u001b[0m\u001b[0mn_components\u001b[0m\u001b[1;33m=\u001b[0m\u001b[0mi\u001b[0m\u001b[1;33m,\u001b[0m \u001b[0mrandom_state\u001b[0m\u001b[1;33m=\u001b[0m\u001b[1;36m99\u001b[0m\u001b[1;33m)\u001b[0m\u001b[1;33m\u001b[0m\u001b[1;33m\u001b[0m\u001b[0m\n\u001b[0;32m     15\u001b[0m \u001b[1;33m\u001b[0m\u001b[0m\n\u001b[1;32m---> 16\u001b[1;33m         \u001b[0mX_trans\u001b[0m \u001b[1;33m=\u001b[0m \u001b[0mdr\u001b[0m\u001b[1;33m.\u001b[0m\u001b[0mfit_transform\u001b[0m\u001b[1;33m(\u001b[0m\u001b[0mX\u001b[0m\u001b[1;33m)\u001b[0m\u001b[1;33m\u001b[0m\u001b[1;33m\u001b[0m\u001b[0m\n\u001b[0m\u001b[0;32m     17\u001b[0m         \u001b[0mscaler\u001b[0m \u001b[1;33m=\u001b[0m \u001b[0mMinMaxScaler\u001b[0m\u001b[1;33m(\u001b[0m\u001b[1;33m)\u001b[0m\u001b[1;33m\u001b[0m\u001b[1;33m\u001b[0m\u001b[0m\n\u001b[0;32m     18\u001b[0m         \u001b[0mX_scaled\u001b[0m \u001b[1;33m=\u001b[0m \u001b[0mscaler\u001b[0m\u001b[1;33m.\u001b[0m\u001b[0mfit_transform\u001b[0m\u001b[1;33m(\u001b[0m\u001b[0mX_trans\u001b[0m\u001b[1;33m)\u001b[0m\u001b[1;33m\u001b[0m\u001b[1;33m\u001b[0m\u001b[0m\n",
      "\u001b[1;32m~\\anaconda3\\lib\\site-packages\\sklearn\\manifold\\_mds.py\u001b[0m in \u001b[0;36mfit_transform\u001b[1;34m(self, X, y, init)\u001b[0m\n\u001b[0;32m    452\u001b[0m                              \" Got %s instead\" % str(self.dissimilarity))\n\u001b[0;32m    453\u001b[0m \u001b[1;33m\u001b[0m\u001b[0m\n\u001b[1;32m--> 454\u001b[1;33m         self.embedding_, self.stress_, self.n_iter_ = smacof(\n\u001b[0m\u001b[0;32m    455\u001b[0m             \u001b[0mself\u001b[0m\u001b[1;33m.\u001b[0m\u001b[0mdissimilarity_matrix_\u001b[0m\u001b[1;33m,\u001b[0m \u001b[0mmetric\u001b[0m\u001b[1;33m=\u001b[0m\u001b[0mself\u001b[0m\u001b[1;33m.\u001b[0m\u001b[0mmetric\u001b[0m\u001b[1;33m,\u001b[0m\u001b[1;33m\u001b[0m\u001b[1;33m\u001b[0m\u001b[0m\n\u001b[0;32m    456\u001b[0m             \u001b[0mn_components\u001b[0m\u001b[1;33m=\u001b[0m\u001b[0mself\u001b[0m\u001b[1;33m.\u001b[0m\u001b[0mn_components\u001b[0m\u001b[1;33m,\u001b[0m \u001b[0minit\u001b[0m\u001b[1;33m=\u001b[0m\u001b[0minit\u001b[0m\u001b[1;33m,\u001b[0m \u001b[0mn_init\u001b[0m\u001b[1;33m=\u001b[0m\u001b[0mself\u001b[0m\u001b[1;33m.\u001b[0m\u001b[0mn_init\u001b[0m\u001b[1;33m,\u001b[0m\u001b[1;33m\u001b[0m\u001b[1;33m\u001b[0m\u001b[0m\n",
      "\u001b[1;32m~\\anaconda3\\lib\\site-packages\\sklearn\\utils\\validation.py\u001b[0m in \u001b[0;36minner_f\u001b[1;34m(*args, **kwargs)\u001b[0m\n\u001b[0;32m     61\u001b[0m             \u001b[0mextra_args\u001b[0m \u001b[1;33m=\u001b[0m \u001b[0mlen\u001b[0m\u001b[1;33m(\u001b[0m\u001b[0margs\u001b[0m\u001b[1;33m)\u001b[0m \u001b[1;33m-\u001b[0m \u001b[0mlen\u001b[0m\u001b[1;33m(\u001b[0m\u001b[0mall_args\u001b[0m\u001b[1;33m)\u001b[0m\u001b[1;33m\u001b[0m\u001b[1;33m\u001b[0m\u001b[0m\n\u001b[0;32m     62\u001b[0m             \u001b[1;32mif\u001b[0m \u001b[0mextra_args\u001b[0m \u001b[1;33m<=\u001b[0m \u001b[1;36m0\u001b[0m\u001b[1;33m:\u001b[0m\u001b[1;33m\u001b[0m\u001b[1;33m\u001b[0m\u001b[0m\n\u001b[1;32m---> 63\u001b[1;33m                 \u001b[1;32mreturn\u001b[0m \u001b[0mf\u001b[0m\u001b[1;33m(\u001b[0m\u001b[1;33m*\u001b[0m\u001b[0margs\u001b[0m\u001b[1;33m,\u001b[0m \u001b[1;33m**\u001b[0m\u001b[0mkwargs\u001b[0m\u001b[1;33m)\u001b[0m\u001b[1;33m\u001b[0m\u001b[1;33m\u001b[0m\u001b[0m\n\u001b[0m\u001b[0;32m     64\u001b[0m \u001b[1;33m\u001b[0m\u001b[0m\n\u001b[0;32m     65\u001b[0m             \u001b[1;31m# extra_args > 0\u001b[0m\u001b[1;33m\u001b[0m\u001b[1;33m\u001b[0m\u001b[1;33m\u001b[0m\u001b[0m\n",
      "\u001b[1;32m~\\anaconda3\\lib\\site-packages\\sklearn\\manifold\\_mds.py\u001b[0m in \u001b[0;36msmacof\u001b[1;34m(dissimilarities, metric, n_components, init, n_init, n_jobs, max_iter, verbose, eps, random_state, return_n_iter)\u001b[0m\n\u001b[0;32m    248\u001b[0m     \u001b[1;32mif\u001b[0m \u001b[0meffective_n_jobs\u001b[0m\u001b[1;33m(\u001b[0m\u001b[0mn_jobs\u001b[0m\u001b[1;33m)\u001b[0m \u001b[1;33m==\u001b[0m \u001b[1;36m1\u001b[0m\u001b[1;33m:\u001b[0m\u001b[1;33m\u001b[0m\u001b[1;33m\u001b[0m\u001b[0m\n\u001b[0;32m    249\u001b[0m         \u001b[1;32mfor\u001b[0m \u001b[0mit\u001b[0m \u001b[1;32min\u001b[0m \u001b[0mrange\u001b[0m\u001b[1;33m(\u001b[0m\u001b[0mn_init\u001b[0m\u001b[1;33m)\u001b[0m\u001b[1;33m:\u001b[0m\u001b[1;33m\u001b[0m\u001b[1;33m\u001b[0m\u001b[0m\n\u001b[1;32m--> 250\u001b[1;33m             pos, stress, n_iter_ = _smacof_single(\n\u001b[0m\u001b[0;32m    251\u001b[0m                 \u001b[0mdissimilarities\u001b[0m\u001b[1;33m,\u001b[0m \u001b[0mmetric\u001b[0m\u001b[1;33m=\u001b[0m\u001b[0mmetric\u001b[0m\u001b[1;33m,\u001b[0m\u001b[1;33m\u001b[0m\u001b[1;33m\u001b[0m\u001b[0m\n\u001b[0;32m    252\u001b[0m                 \u001b[0mn_components\u001b[0m\u001b[1;33m=\u001b[0m\u001b[0mn_components\u001b[0m\u001b[1;33m,\u001b[0m \u001b[0minit\u001b[0m\u001b[1;33m=\u001b[0m\u001b[0minit\u001b[0m\u001b[1;33m,\u001b[0m\u001b[1;33m\u001b[0m\u001b[1;33m\u001b[0m\u001b[0m\n",
      "\u001b[1;32m~\\anaconda3\\lib\\site-packages\\sklearn\\manifold\\_mds.py\u001b[0m in \u001b[0;36m_smacof_single\u001b[1;34m(dissimilarities, metric, n_components, init, max_iter, verbose, eps, random_state)\u001b[0m\n\u001b[0;32m    110\u001b[0m \u001b[1;33m\u001b[0m\u001b[0m\n\u001b[0;32m    111\u001b[0m         \u001b[1;31m# Compute stress\u001b[0m\u001b[1;33m\u001b[0m\u001b[1;33m\u001b[0m\u001b[1;33m\u001b[0m\u001b[0m\n\u001b[1;32m--> 112\u001b[1;33m         \u001b[0mstress\u001b[0m \u001b[1;33m=\u001b[0m \u001b[1;33m(\u001b[0m\u001b[1;33m(\u001b[0m\u001b[0mdis\u001b[0m\u001b[1;33m.\u001b[0m\u001b[0mravel\u001b[0m\u001b[1;33m(\u001b[0m\u001b[1;33m)\u001b[0m \u001b[1;33m-\u001b[0m \u001b[0mdisparities\u001b[0m\u001b[1;33m.\u001b[0m\u001b[0mravel\u001b[0m\u001b[1;33m(\u001b[0m\u001b[1;33m)\u001b[0m\u001b[1;33m)\u001b[0m \u001b[1;33m**\u001b[0m \u001b[1;36m2\u001b[0m\u001b[1;33m)\u001b[0m\u001b[1;33m.\u001b[0m\u001b[0msum\u001b[0m\u001b[1;33m(\u001b[0m\u001b[1;33m)\u001b[0m \u001b[1;33m/\u001b[0m \u001b[1;36m2\u001b[0m\u001b[1;33m\u001b[0m\u001b[1;33m\u001b[0m\u001b[0m\n\u001b[0m\u001b[0;32m    113\u001b[0m \u001b[1;33m\u001b[0m\u001b[0m\n\u001b[0;32m    114\u001b[0m         \u001b[1;31m# Update X using the Guttman transform\u001b[0m\u001b[1;33m\u001b[0m\u001b[1;33m\u001b[0m\u001b[1;33m\u001b[0m\u001b[0m\n",
      "\u001b[1;31mKeyboardInterrupt\u001b[0m: "
     ]
    }
   ],
   "source": [
    "MLP_MDS_TEST= classifier_test(model=mlp, dr_technique='MDS', X=X_scaled, y=y)"
   ]
  },
  {
   "cell_type": "code",
   "execution_count": null,
   "metadata": {},
   "outputs": [
    {
     "data": {
      "text/plain": [
       "{2: [0.192, 0.1433008985719711],\n",
       " 6: [0.3752, 0.3533659876561411],\n",
       " 10: [0.4589714285714286, 0.4304600146668198],\n",
       " 14: [0.4693714285714286, 0.4440389890230544],\n",
       " 18: [0.48491428571428574, 0.4581497853844656],\n",
       " 22: [0.40800000000000003, 0.3821854574147221],\n",
       " 26: [0.4949714285714285, 0.46369137528328574],\n",
       " 30: [0.4444571428571429, 0.42731681008587846],\n",
       " 34: [0.47222857142857133, 0.4473704788670408],\n",
       " 38: [0.5017142857142858, 0.4822530657825677]}"
      ]
     },
     "execution_count": 81,
     "metadata": {},
     "output_type": "execute_result"
    }
   ],
   "source": [
    "MLP_FA_TEST"
   ]
  },
  {
   "cell_type": "code",
   "execution_count": null,
   "metadata": {},
   "outputs": [
    {
     "data": {
      "text/plain": [
       "dict"
      ]
     },
     "execution_count": 82,
     "metadata": {},
     "output_type": "execute_result"
    }
   ],
   "source": [
    "type(MLP_FA_TEST)"
   ]
  },
  {
   "cell_type": "code",
   "execution_count": null,
   "metadata": {},
   "outputs": [],
   "source": [
    "RF_MDS_TEST = {2:[0.3253714285714286,0.2852686644761099],4:[0.07451428571428571,0.044263801703611626],6:[0.07565714285714287,0.04667088374643651],8:[0.0776,0.045427472165487995]}\n",
    "MLP_MDS_TEST = {2:[0.2234285714285714,0.1822425976902662],6:[0.08068571428571428,0.041739742518500295],10:[0.07291428571428571,0.03493460729635377]}"
   ]
  },
  {
   "cell_type": "markdown",
   "metadata": {},
   "source": [
    "# Plot 1"
   ]
  },
  {
   "cell_type": "code",
   "execution_count": null,
   "metadata": {},
   "outputs": [
    {
     "data": {
      "image/png": "[encoded data removed]",
      "text/plain": [
       "<Figure size 1080x720 with 1 Axes>"
      ]
     },
     "metadata": {
      "needs_background": "light"
     },
     "output_type": "display_data"
    }
   ],
   "source": [
    "figure = plt.figure(figsize=(15, 10))\n",
    "features_PCA = [0, 0] + [key for key in RF_PCA_TEST.keys()]\n",
    "features_FA = [0, 0] + [key for key in RF_FA_TEST.keys()]\n",
    "features_MDS = [0, 0] + [key for key in RF_MDS_TEST.keys()]\n",
    "acc_PCA = [0, 0] + [val[0] for val in RF_PCA_TEST.values()]\n",
    "acc_FA = [0, 0] + [val[0] for val in RF_FA_TEST.values()]\n",
    "acc_MDS = [0, 0] + [val[0] for val in RF_MDS_TEST.values()]\n",
    "\n",
    "plt.plot(features_PCA, acc_PCA , marker='o', color='k', label = 'PCA')\n",
    "plt.plot(features_FA, acc_FA , marker='x', color='r', label = 'FA')\n",
    "plt.plot(features_MDS, acc_MDS , marker='v', color='b', label = 'MDS')\n",
    "plt.xlabel('Number of Selected Features')\n",
    "plt.xticks(np.arange(0, 50, 2))\n",
    "plt.ylabel('Accuracy')\n",
    "plt.yticks(np.arange(0, 0.7, 0.1))\n",
    "plt.title('Visulatiztion for Random Forest in Dataset1')\n",
    "plt.legend(loc='lower right')\n",
    "plt.show()"
   ]
  },
  {
   "cell_type": "markdown",
   "metadata": {},
   "source": [
    "# Plot 2"
   ]
  },
  {
   "cell_type": "code",
   "execution_count": null,
   "metadata": {},
   "outputs": [
    {
     "data": {
      "image/png": "[encoded data removed]",
      "text/plain": [
       "<Figure size 1080x720 with 1 Axes>"
      ]
     },
     "metadata": {
      "needs_background": "light"
     },
     "output_type": "display_data"
    }
   ],
   "source": [
    "figure = plt.figure(figsize=(15, 10))\n",
    "fea_PCA = [0, 0] + [key for key in MLP_PCA_TEST.keys()]\n",
    "fea_FA = [0, 0] + [key for key in MLP_FA_TEST.keys()]\n",
    "fea_MDS = [0, 0] + [key for key in MLP_MDS_TEST.keys()]\n",
    "accuracy_PCA = [0, 0] + [val[0] for val in MLP_PCA_TEST.values()]\n",
    "accuracy_FA = [0, 0] + [val[0] for val in MLP_FA_TEST.values()]\n",
    "accuracy_MDS = [0, 0] + [val[0] for val in MLP_MDS_TEST.values()]\n",
    "\n",
    "plt.plot(fea_PCA, accuracy_PCA , marker='o', color='k', label = 'PCA')\n",
    "plt.plot(fea_FA, accuracy_FA , marker='x', color='r', label = 'FA')\n",
    "plt.plot(fea_MDS, accuracy_MDS , marker='v', color='b', label = 'MDS')\n",
    "plt.xlabel('Number of Selected Features')\n",
    "plt.xticks(np.arange(0, 50, 2))\n",
    "plt.ylabel('Accuracy')\n",
    "plt.yticks(np.arange(0, 0.7, 0.1))\n",
    "plt.title('Visulatiztion for Multilayer Perceptron in Dataset1')\n",
    "plt.legend(loc='lower right')\n",
    "plt.show()"
   ]
  },
  {
   "cell_type": "markdown",
   "metadata": {},
   "source": [
    "# Radial Basis Functions Neural Networks (RBF)"
   ]
  },
  {
   "cell_type": "code",
   "execution_count": null,
   "metadata": {},
   "outputs": [],
   "source": [
    "def kmeans(X, k, max_iters):\n",
    "  \n",
    "    centroids = X[np.random.choice(range(len(X)), k, replace=False)]\n",
    "    \n",
    "    converged = False\n",
    "    \n",
    "    current_iter = 0\n",
    "\n",
    "    while (not converged) and (current_iter < max_iters):\n",
    "\n",
    "        cluster_list = [[] for i in range(len(centroids))]\n",
    "\n",
    "        for x in X:  # Go through each data point\n",
    "            distances_list = []\n",
    "            for c in centroids:\n",
    "                distances_list.append(get_distance(c, x))\n",
    "            cluster_list[int(np.argmin(distances_list))].append(x)\n",
    "\n",
    "        cluster_list = list((filter(None, cluster_list)))\n",
    "\n",
    "        prev_centroids = centroids.copy()\n",
    "\n",
    "        centroids = []\n",
    "\n",
    "        for j in range(len(cluster_list)):\n",
    "            centroids.append(np.mean(cluster_list[j], axis=0))\n",
    "\n",
    "        pattern = np.abs(np.sum(prev_centroids) - np.sum(centroids))\n",
    "\n",
    "        converged = (pattern == 0)\n",
    "        print('K-MEANS: ', int(pattern))\n",
    "        current_iter += 1\n",
    "\n",
    "    return np.array(centroids), [np.std(x) for x in cluster_list]\n",
    "\n",
    "\n",
    "class RBF:\n",
    "\n",
    "    def __init__(self, X, y, tX, ty, num_of_classes,\n",
    "                 k, std_from_clusters=True):\n",
    "        self.X = X\n",
    "        self.y = y\n",
    "\n",
    "        self.tX = tX\n",
    "        self.ty = ty\n",
    "\n",
    "        self.number_of_classes = num_of_classes\n",
    "        self.k = k\n",
    "        self.std_from_clusters = std_from_clusters\n",
    "\n",
    "    def rbf(self, x, c, s):\n",
    "        distance = get_distance(x, c)\n",
    "        return 1 / np.exp(-distance / s ** 2)\n",
    "\n",
    "    def rbf_list(self, X, centroids, std_list):\n",
    "        RBF_list = []\n",
    "        for x in X:\n",
    "            RBF_list.append([self.rbf(x, c, s) for (c, s) in zip(centroids, std_list)])\n",
    "        return np.array(RBF_list)\n",
    "\n",
    "    def fit_predict(self):\n",
    "\n",
    "        self.centroids, self.std_list = kmeans(self.X, self.k, max_iters=1000)\n",
    "\n",
    "        if not self.std_from_clusters:\n",
    "            dMax = np.max([get_distance(c1, c2) for c1 in self.centroids for c2 in self.centroids])\n",
    "            self.std_list = np.repeat(dMax / np.sqrt(2 * self.k), self.k)\n",
    "\n",
    "        RBF_X = self.rbf_list(self.X, self.centroids, self.std_list)\n",
    "\n",
    "        self.w = np.dot(np.dot(np.linalg.pinv(np.dot(RBF_X.T, RBF_X)), RBF_X.T), self.y)\n",
    "\n",
    "        RBF_list_tst = self.rbf_list(self.tX, self.centroids, self.std_list)\n",
    "\n",
    "        self.pred_ty = np.dot(RBF_list_tst, self.w)\n",
    "\n",
    "        self.pred_ty = [np.argmax(label) for label in self.pred_ty]\n",
    "        self.ty = [np.argmax(label) for label in self.ty]\n",
    "\n",
    "        print('Accuracy: ', accuracy_score(self.ty, self.pred_ty))\n",
    "        print('f-score: ', f1_score(self.ty, self.pred_ty, average='weighted'))\n",
    "        \n",
    "        return accuracy_score(self.ty, self.pred_ty), f1_score(self.ty, self.pred_ty, average='weighted')"
   ]
  },
  {
   "cell_type": "code",
   "execution_count": null,
   "metadata": {},
   "outputs": [],
   "source": [
    "i = 0\n",
    "rbf_accuracy = []\n",
    "rbf_fscore = []\n",
    "\n",
    "start_time = time.time()\n",
    "\n",
    "for train_idx, val_idx in k_fold.split(X, y):\n",
    "    i += 1\n",
    "    \n",
    "    X_train, X_val = X[train_idx], X[val_idx]\n",
    "    y_train, y_val = y[train_idx], y[val_idx]\n",
    "\n",
    "    RBF_CLASSIFIER = RBF(X_train, y_train, X_val, y_val, num_of_classes=10, k=500, std_from_clusters=False)\n",
    "    print(f\"Fold {i}\")\n",
    "    print(\"---------\")\n",
    "    acc, f1 = RBF_CLASSIFIER.fit_predict()\n",
    "    rbf_accuracy.append(acc)\n",
    "    rbf_fscore.append(f1)\n",
    "\n",
    "end_time = time.time()\n",
    "\n",
    "print(f\"Time taken: {int((end_time - start_time)/60)} min\" )\n",
    "\n",
    "print(\"Average accuracy: \", np.mean(np.asarray(rbf_accuracy)))\n",
    "print(\"Average f1-score: \", np.mean(np.asarray(rbf_fscore)))"
   ]
  },
  {
   "cell_type": "code",
   "execution_count": 47,
   "metadata": {},
   "outputs": [
    {
     "ename": "NameError",
     "evalue": "name 'RF_PCA_TEST' is not defined",
     "output_type": "error",
     "traceback": [
      "\u001b[1;31m---------------------------------------------------------------------------\u001b[0m",
      "\u001b[1;31mNameError\u001b[0m                                 Traceback (most recent call last)",
      "\u001b[1;32m<ipython-input-47-98f180c01c2a>\u001b[0m in \u001b[0;36m<module>\u001b[1;34m\u001b[0m\n\u001b[0;32m      1\u001b[0m \u001b[0mfigure\u001b[0m \u001b[1;33m=\u001b[0m \u001b[0mplt\u001b[0m\u001b[1;33m.\u001b[0m\u001b[0mfigure\u001b[0m\u001b[1;33m(\u001b[0m\u001b[0mfigsize\u001b[0m\u001b[1;33m=\u001b[0m\u001b[1;33m(\u001b[0m\u001b[1;36m15\u001b[0m\u001b[1;33m,\u001b[0m \u001b[1;36m10\u001b[0m\u001b[1;33m)\u001b[0m\u001b[1;33m)\u001b[0m\u001b[1;33m\u001b[0m\u001b[1;33m\u001b[0m\u001b[0m\n\u001b[1;32m----> 2\u001b[1;33m \u001b[0mfeatures_PCA\u001b[0m \u001b[1;33m=\u001b[0m \u001b[1;33m[\u001b[0m\u001b[1;36m0\u001b[0m\u001b[1;33m,\u001b[0m \u001b[1;36m0\u001b[0m\u001b[1;33m]\u001b[0m \u001b[1;33m+\u001b[0m \u001b[1;33m[\u001b[0m\u001b[0mkey\u001b[0m \u001b[1;32mfor\u001b[0m \u001b[0mkey\u001b[0m \u001b[1;32min\u001b[0m \u001b[0mRF_PCA_TEST\u001b[0m\u001b[1;33m.\u001b[0m\u001b[0mkeys\u001b[0m\u001b[1;33m(\u001b[0m\u001b[1;33m)\u001b[0m\u001b[1;33m]\u001b[0m\u001b[1;33m\u001b[0m\u001b[1;33m\u001b[0m\u001b[0m\n\u001b[0m\u001b[0;32m      3\u001b[0m \u001b[0mfeatures_FA\u001b[0m \u001b[1;33m=\u001b[0m \u001b[1;33m[\u001b[0m\u001b[1;36m0\u001b[0m\u001b[1;33m,\u001b[0m \u001b[1;36m0\u001b[0m\u001b[1;33m]\u001b[0m \u001b[1;33m+\u001b[0m \u001b[1;33m[\u001b[0m\u001b[0mkey\u001b[0m \u001b[1;32mfor\u001b[0m \u001b[0mkey\u001b[0m \u001b[1;32min\u001b[0m \u001b[0mRF_FA_TEST\u001b[0m\u001b[1;33m.\u001b[0m\u001b[0mkeys\u001b[0m\u001b[1;33m(\u001b[0m\u001b[1;33m)\u001b[0m\u001b[1;33m]\u001b[0m\u001b[1;33m\u001b[0m\u001b[1;33m\u001b[0m\u001b[0m\n\u001b[0;32m      4\u001b[0m \u001b[0mfeatures_MDS\u001b[0m \u001b[1;33m=\u001b[0m \u001b[1;33m[\u001b[0m\u001b[1;36m0\u001b[0m\u001b[1;33m,\u001b[0m \u001b[1;36m0\u001b[0m\u001b[1;33m]\u001b[0m \u001b[1;33m+\u001b[0m \u001b[1;33m[\u001b[0m\u001b[0mkey\u001b[0m \u001b[1;32mfor\u001b[0m \u001b[0mkey\u001b[0m \u001b[1;32min\u001b[0m \u001b[0mRF_MDS_TEST\u001b[0m\u001b[1;33m.\u001b[0m\u001b[0mkeys\u001b[0m\u001b[1;33m(\u001b[0m\u001b[1;33m)\u001b[0m\u001b[1;33m]\u001b[0m\u001b[1;33m\u001b[0m\u001b[1;33m\u001b[0m\u001b[0m\n\u001b[0;32m      5\u001b[0m \u001b[0macc_PCA\u001b[0m \u001b[1;33m=\u001b[0m \u001b[1;33m[\u001b[0m\u001b[1;36m0\u001b[0m\u001b[1;33m,\u001b[0m \u001b[1;36m0\u001b[0m\u001b[1;33m]\u001b[0m \u001b[1;33m+\u001b[0m \u001b[1;33m[\u001b[0m\u001b[0mval\u001b[0m\u001b[1;33m[\u001b[0m\u001b[1;36m0\u001b[0m\u001b[1;33m]\u001b[0m \u001b[1;32mfor\u001b[0m \u001b[0mval\u001b[0m \u001b[1;32min\u001b[0m \u001b[0mRF_PCA_TEST\u001b[0m\u001b[1;33m.\u001b[0m\u001b[0mvalues\u001b[0m\u001b[1;33m(\u001b[0m\u001b[1;33m)\u001b[0m\u001b[1;33m]\u001b[0m\u001b[1;33m\u001b[0m\u001b[1;33m\u001b[0m\u001b[0m\n",
      "\u001b[1;31mNameError\u001b[0m: name 'RF_PCA_TEST' is not defined"
     ]
    },
    {
     "data": {
      "text/plain": [
       "<Figure size 1080x720 with 0 Axes>"
      ]
     },
     "metadata": {},
     "output_type": "display_data"
    }
   ],
   "source": [
    "figure = plt.figure(figsize=(15, 10))\n",
    "features_PCA = [0, 0] + [key for key in RF_PCA_TEST.keys()]\n",
    "features_FA = [0, 0] + [key for key in RF_FA_TEST.keys()]\n",
    "features_MDS = [0, 0] + [key for key in RF_MDS_TEST.keys()]\n",
    "acc_PCA = [0, 0] + [val[0] for val in RF_PCA_TEST.values()]\n",
    "acc_FA = [0, 0] + [val[0] for val in RF_FA_TEST.values()]\n",
    "acc_MDS = [0, 0] + [val[0] for val in RF_MDS_TEST.values()]\n",
    "\n",
    "plt.plot(features_PCA, acc_PCA , marker='o', color='k', label = 'PCA')\n",
    "plt.plot(features_FA, acc_FA , marker='x', color='r', label = 'FA')\n",
    "plt.plot(features_MDS, acc_MDS , marker='v', color='b', label = 'MDS')\n",
    "plt.xlabel('Number of Selected Features')\n",
    "plt.xticks(np.arange(0, 50, 2))\n",
    "plt.ylabel('Accuracy')\n",
    "plt.yticks(np.arange(0, 0.7, 0.1))\n",
    "plt.title('Visulatiztion for Random Forest in Dataset1')\n",
    "plt.legend(loc='lower right')\n",
    "plt.show()"
   ]
  },
  {
   "cell_type": "code",
   "execution_count": null,
   "metadata": {},
   "outputs": [],
   "source": []
  }
 ],
 "metadata": {
  "interpreter": {
   "hash": "aaa7a009eec33a65950fed75e6c5f79e322e969f73d9caa9570e5fa941d60d89"
  },
  "kernelspec": {
   "display_name": "Python 3.9.5 64-bit",
   "name": "python3"
  },
  "language_info": {
   "codemirror_mode": {
    "name": "ipython",
    "version": 3
   },
   "file_extension": ".py",
   "mimetype": "text/x-python",
   "name": "python",
   "nbconvert_exporter": "python",
   "pygments_lexer": "ipython3",
   "version": "3.8.8"
  },
  "orig_nbformat": 4
 },
 "nbformat": 4,
 "nbformat_minor": 2
}
